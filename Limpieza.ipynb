{
 "cells": [
  {
   "cell_type": "code",
   "execution_count": null,
   "id": "20f0df33-1dd4-4901-8bef-9521fdd9ba3b",
   "metadata": {
    "tags": []
   },
   "outputs": [],
   "source": [
    "import pandas as pd\n",
    "import numpy as np\n",
    "import re #para identificar patrones en textos\n",
    "from langdetect import detect #para detectar idiomas, se tiene que instalar\n",
    "from deep_translator import GoogleTranslator #para traducir texto, se tiene que instalar"
   ]
  },
  {
   "cell_type": "markdown",
   "id": "fd430ddc-4e7d-4563-b463-d123f883c02b",
   "metadata": {},
   "source": [
    "## Description"
   ]
  },
  {
   "cell_type": "code",
   "execution_count": null,
   "id": "f17123d6-fc31-40bb-8900-cd8199fd78f3",
   "metadata": {},
   "outputs": [],
   "source": [
    "def treat_euro(text):\n",
    "    text = re.sub(r'(euro[^s])|(euros)|(€)', ' euros', text)\n",
    "    return text\n",
    "\n",
    "def treat_m2(text):\n",
    "    text = re.sub(r'(m2)|(m²)', ' m²', text)\n",
    "    return text\n",
    "\n",
    "def filter_ibans(text):\n",
    "    pattern = r'ES\\d{2}[ ]\\d{4}[ ]\\d{4}[ ]\\d{4}[ ]\\d{4}[ ]\\d{2}|ES\\d{20}|ES[ ]\\d{2}[ ]\\d{3}[ ]\\d{3}[ ]\\d{3}[ ]\\d{5}'\n",
    "    text = re.sub(pattern, '', text)\n",
    "    return text\n",
    "\n",
    "def remove_space_between_numbers(text):\n",
    "    text = re.sub(r'(\\d)\\s+(\\d)', r'\\1\\2', text)\n",
    "    return text\n",
    "\n",
    "def filter_emails(text):\n",
    "    pattern = r'(?:(?!.*?[.]{2})[a-zA-Z0-9](?:[a-zA-Z0-9.+!%-]{1,64}|)|\\\"[a-zA-Z0-9.+!% -]{1,64}\\\")@[a-zA-Z0-9][a-zA-Z0-9.-]+(.[a-z]{2,}|.[0-9]{1,})'\n",
    "    text = re.sub(pattern, '', text)\n",
    "    return text\n",
    "\n",
    "def filter_ref(text):\n",
    "    pattern = r'(\\(*)(ref|REF)(\\.|[ ])\\d+(\\)*)'\n",
    "    text = re.sub(pattern, '', text)\n",
    "    return text\n",
    "\n",
    "def filter_websites(text):\n",
    "    pattern = r'(http\\:\\/\\/|https\\:\\/\\/)?([a-z0-9][a-z0-9\\-]*\\.)+[a-z][a-z\\-]*'\n",
    "    text = re.sub(pattern, '', text)\n",
    "    return text\n",
    "\n",
    "def filter_phone_numbers(text):\n",
    "    pattern = r'(?:(?:\\+|00)33[\\s.-]{0,3}(?:\\(0\\)[\\s.-]{0,3})?|0)[1-9](?:(?:[\\s.-]?\\d{2}){4}|\\d{2}(?:[\\s.-]?\\d{3}){2})|(\\d{2}[ ]\\d{2}[ ]\\d{3}[ ]\\d{3})'\n",
    "    text = re.sub(pattern, '', text)\n",
    "    return text\n",
    "\n",
    "def remove_large_numbers(text):\n",
    "    pattern = r'\\b\\d{4,}\\b'\n",
    "    text = re.sub(pattern, '', text)\n",
    "    return text\n",
    "\n",
    "def remove_text_in_brackets(text):\n",
    "    pattern = r'\\[[^\\]]*\\]|\\{[^}]*\\}'\n",
    "    text = re.sub(pattern, '', text)\n",
    "    return text\n",
    "\n",
    "def clean_text(text):\n",
    "    if isinstance(text, str):  # Verifica si text es una cadena de texto\n",
    "        text = text.replace(u'\\xa0', u' ')\n",
    "        text = treat_m2(text)\n",
    "        text = treat_euro(text)\n",
    "        text = filter_phone_numbers(text)\n",
    "        text = filter_emails(text)\n",
    "        text = filter_ibans(text)\n",
    "        text = filter_ref(text)\n",
    "        text = filter_websites(text)\n",
    "        text = remove_space_between_numbers(text)\n",
    "        text = remove_large_numbers(text)\n",
    "        text = remove_text_in_brackets(text)\n",
    "    return text\n",
    "\n",
    "df['cl_descrip'] = df.Description.apply(clean_text)\n",
    "\n",
    "\n",
    "# Reemplazar los valores NaN o no válidos con una cadena vacía ''\n",
    "df['cl_descrip'] = df['cl_descrip'].fillna('')\n",
    "\n",
    "# Función para detectar el idioma de un texto\n",
    "def detect_language(text):\n",
    "    try:\n",
    "        return detect(text)\n",
    "    except:\n",
    "        return None\n",
    "\n",
    "# Agrega una nueva columna 'Language' con el idioma detectado para cada descripción\n",
    "base['Language'] = base['cl_descrip'].apply(detect_language)\n",
    "\n",
    "# Función para cortar el texto a un máximo de 300 palabras\n",
    "def truncate_text(text):\n",
    "    words = text.split()[:450]\n",
    "    truncated_text = ' '.join(words)\n",
    "    return truncated_text\n",
    "\n",
    "# Aplico la función para truncar el texto en la columna 'cl_descrip'\n",
    "base['cl_descrip'] = base['cl_descrip'].apply(truncate_text)\n",
    "\n",
    "# Filtro las filas que tienen 'Language' algo distinto al español ('es')\n",
    "no_esp_descriptions = base[base['Language'] != 'es']['cl_descrip']\n",
    "\n",
    "# Traduzco las descripciones al español\n",
    "translated_descriptions = []\n",
    "for description in no_esp_descriptions:\n",
    "    translated_description = GoogleTranslator(source='auto', target='es').translate(description)\n",
    "    translated_descriptions.append(translated_description)\n",
    "\n",
    "# Reemplazo las descripciones traducidas en el DataFrame original\n",
    "base.loc[base['Language'] != 'es', 'cl_descrip'] = translated_descriptions\n",
    "\n",
    "df=df.drop('Language', axis=1)"
   ]
  },
  {
   "cell_type": "markdown",
   "id": "fdb43752-4cde-4b5a-93b9-8a657ea7a816",
   "metadata": {},
   "source": [
    "## 1. Price_other"
   ]
  },
  {
   "cell_type": "code",
   "execution_count": 48,
   "id": "0762da42-4680-44da-9d91-46d21b229213",
   "metadata": {
    "tags": []
   },
   "outputs": [
    {
     "name": "stdout",
     "output_type": "stream",
     "text": [
      "                                    Price_other\n",
      "0  255m2 - 4 habitaciones - 2 baños - 17,65€/m2\n",
      "1   150m2 - 3 habitaciones - 1 baño - 20,50€/m2\n",
      "2  200m2 - 5 habitaciones - 3 baños - 15,75€/m2\n"
     ]
    }
   ],
   "source": [
    "# Crear DataFrame de ejemplo\n",
    "datos = {'Price_other': [\n",
    "    \"255m2 - 4 habitaciones - 2 baños - 17,65€/m2\",\n",
    "    \"150m2 - 3 habitaciones - 1 baño - 20,50€/m2\",\n",
    "    \"200m2 - 5 habitaciones - 3 baños - 15,75€/m2\"]}\n",
    "\n",
    "df = pd.DataFrame(datos)\n",
    "print(df)"
   ]
  },
  {
   "cell_type": "code",
   "execution_count": 49,
   "id": "945f012f-1415-4078-b538-06fb4eb51137",
   "metadata": {
    "tags": []
   },
   "outputs": [
    {
     "name": "stdout",
     "output_type": "stream",
     "text": [
      "                                    Price_other   area  rooms  price_m2\n",
      "0  255m2 - 4 habitaciones - 2 baños - 17,65€/m2  255.0    4.0     17.65\n",
      "1   150m2 - 3 habitaciones - 1 baño - 20,50€/m2  150.0    3.0     20.50\n",
      "2  200m2 - 5 habitaciones - 3 baños - 15,75€/m2  200.0    5.0     15.75\n"
     ]
    }
   ],
   "source": [
    "# Función para extraer la información del precio y otras características\n",
    "def extraer_info(texto):\n",
    "    area_match = re.search(r'(\\d+)m2', texto)\n",
    "    area = int(area_match.group(1)) if area_match else 0\n",
    "    rooms_match = re.search(r'(\\d+) habitaciones', texto)\n",
    "    rooms = int(rooms_match.group(1)) if rooms_match else 0\n",
    "    price_m2_match = re.search(r'(\\d+,\\d+)€/m2', texto)\n",
    "    price_m2 = float(price_m2_match.group(1).replace(',', '.')) if price_m2_match else 0\n",
    "    return pd.Series([area, rooms, price_m2])\n",
    "\n",
    "# Aplicar la función y crear las nuevas columnas\n",
    "df[['area', 'rooms', 'price_m2']] = df['Price_other'].apply(extraer_info)\n",
    "\n",
    "df=df.drop('Price_other',axis=1)\n",
    "\n",
    "print(df)"
   ]
  },
  {
   "cell_type": "markdown",
   "id": "b50f963f-1421-4b58-87c0-387ae4ddc3e3",
   "metadata": {},
   "source": [
    "## 2. Last modification"
   ]
  },
  {
   "cell_type": "code",
   "execution_count": null,
   "id": "567b97c2-27bf-4a7b-a3ad-55e51bd9b159",
   "metadata": {},
   "outputs": [],
   "source": [
    "# Aplicar la función a la columna\n",
    "df['last_mod'] = df['Last Modification'].apply(lambda x: x.replace('última modificación ', ''))\n",
    "df=df.drop('Last Modification',axis=1)"
   ]
  },
  {
   "cell_type": "markdown",
   "id": "057281fb-60e0-40cf-81db-1e59cd790e05",
   "metadata": {},
   "source": [
    "## 3. Distribution"
   ]
  },
  {
   "cell_type": "markdown",
   "id": "eba44fca-0c2d-47a7-8ab1-e78b83632b3a",
   "metadata": {},
   "source": [
    "Primero reviso si no hay más información en esta columna que la de los índices de alquiler."
   ]
  },
  {
   "cell_type": "code",
   "execution_count": 1,
   "id": "ce437a2f-a1c8-4d51-9c3c-6d8030a1b675",
   "metadata": {
    "tags": []
   },
   "outputs": [
    {
     "name": "stdout",
     "output_type": "stream",
     "text": [
      "                                             columna  estructura_similar\n",
      "0  Información del precio\\n\\nPrecio alquiler: 4.5...                True\n",
      "1  Información del precio\\n\\nPrecio alquiler: 3.2...                True\n",
      "2  Información del precio\\n\\nPrecio alquiler: 2.8...               False\n"
     ]
    }
   ],
   "source": [
    "# Define la expresión regular para buscar el patrón de 'Índice Alquiler'\n",
    "patron = r'Índice Alquiler:.*'\n",
    "\n",
    "# Función para verificar si una cadena contiene el patrón\n",
    "def verificar_estructura(cadena):\n",
    "    return bool(re.search(patron, cadena))\n",
    "\n",
    "# Aplica la función a la columna y crea una nueva columna 'estructura_similar'\n",
    "df['estructura_similar'] = df['Distribution'].apply(verificar_estructura)\n",
    "\n",
    "cantidad_false = df['estructura_similar'].value_counts().get(False, 0)\n",
    "cantidad_false"
   ]
  },
  {
   "cell_type": "markdown",
   "id": "ec8d1dfb-0ba2-4a32-a736-405d57498f1e",
   "metadata": {},
   "source": [
    "Si todos fueran `True`, podría usar el siguiente código para ver qué valores hay:"
   ]
  },
  {
   "cell_type": "code",
   "execution_count": null,
   "id": "ca0581d7-cac6-4395-805e-f1d2dc47ecf3",
   "metadata": {},
   "outputs": [],
   "source": [
    "# Función para extraer el texto después de 'Índice Alquiler:'\n",
    "def extraer_texto_despues_indice_alquiler(cadena):\n",
    "    match = re.search(patron, cadena)\n",
    "    if match:\n",
    "        return match.group(1).strip()  # Elimina espacios en blanco al inicio y al final\n",
    "    else:\n",
    "        return None\n",
    "\n",
    "# Aplica la función a la columna y crea una nueva columna 'indice_alquiler'\n",
    "df['indice_alquiler'] = df['Distribution'].apply(extraer_texto_despues_indice_alquiler)\n",
    "\n",
    "# Muestra los valores únicos en toda la columna 'indice_alquiler'\n",
    "valores_unicos = df['indice_alquiler'].unique()\n",
    "\n",
    "print(\"Valores únicos en la columna 'indice_alquiler':\")\n",
    "print(valores_unicos)"
   ]
  },
  {
   "cell_type": "markdown",
   "id": "7cfa94a2-c734-400c-b590-29334b9fae59",
   "metadata": {},
   "source": [
    "## 4. General Characteristics"
   ]
  },
  {
   "cell_type": "code",
   "execution_count": 30,
   "id": "4f6f5f53-e5b1-41fd-b9df-d18f891051fd",
   "metadata": {
    "tags": []
   },
   "outputs": [],
   "source": [
    "# Crear DataFrame de ejemplo\n",
    "datos = {'General Characteristics': [\n",
    "    'Distribución\\n\\n4 habitaciones\\nSuperficie 255 m2\\n2 Baños\\nCocina tipo office: No',\n",
    "    'Distribución\\n\\n2 habitaciones\\nSuperficie 55 m2\\n1 Baño',\n",
    "    'Distribución\\n\\n3 habitaciones\\nSuperficie 122 m2\\n2 Baños\\nCocina tipo office']}\n",
    "\n",
    "df = pd.DataFrame(datos)"
   ]
  },
  {
   "cell_type": "code",
   "execution_count": 31,
   "id": "fce2c0e1-dd01-4704-8b68-47efd8892a5f",
   "metadata": {
    "tags": []
   },
   "outputs": [
    {
     "name": "stdout",
     "output_type": "stream",
     "text": [
      "   Baths  Kitchen_office GC_ad\n",
      "0      2               1      \n",
      "1      1               0      \n",
      "2      2               0      \n"
     ]
    }
   ],
   "source": [
    "# Define expresiones regulares para extraer la información\n",
    "patron_banos = r'(\\d+) Baño'\n",
    "patron_cocina_office = r'Cocina tipo office(: *(No|Si|Sí))?'\n",
    "\n",
    "# Función para extraer el número de baños\n",
    "def extraer_banos(texto):\n",
    "    resultado = re.search(patron_banos, texto)\n",
    "    if resultado:\n",
    "        return int(resultado.group(1))\n",
    "    else:\n",
    "        return None\n",
    "\n",
    "# Función para determinar si hay cocina tipo office\n",
    "def cocina_office(texto):\n",
    "    resultado = re.search(patron_cocina_office, texto)\n",
    "    if resultado:\n",
    "        return 1 if resultado.group(2) is not None else 0\n",
    "    else:\n",
    "        return 0\n",
    "\n",
    "# Función para extraer la información adicional después de los baños\n",
    "def extraer_informacion_adicional(texto):\n",
    "    # Buscar la posición de la línea que contiene información de baños\n",
    "    indice_banos = texto.find(' Baño')\n",
    "    if indice_banos != -1:\n",
    "        # Buscar si hay información sobre la cocina después de los baños\n",
    "        info_cocina = re.search(patron_cocina_office, texto[indice_banos:])\n",
    "        if info_cocina:\n",
    "            # Si hay información sobre la cocina, extraer lo que viene después de ella\n",
    "            return texto[indice_banos + info_cocina.end():]\n",
    "        else:\n",
    "            # Si no hay información sobre la cocina, extraer todo lo que viene después de los baños\n",
    "            return texto[indice_banos + 6:]\n",
    "    else:\n",
    "        return None\n",
    "\n",
    "# Aplicar las funciones y crear las nuevas columnas\n",
    "df['baths'] = df['General Characteristics'].apply(extraer_banos)\n",
    "df['kitchen_office'] = df['General Characteristics'].apply(cocina_office)\n",
    "df['gc_ad'] = df['General Characteristics'].apply(extraer_informacion_adicional)\n",
    "\n",
    "# Función para extraer la información de las características generales\n",
    "def extraer_caracteristicas_generales(texto):\n",
    "    terrace_match = re.search(r'Terraza (\\d+) m²', texto)\n",
    "    terrace = int(terrace_match.group(1)) if terrace_match else 0\n",
    "    aseo_match = re.search(r'(\\d+) (Aseo|Aseos)', texto)\n",
    "    aseo = int(aseo_match.group(1)) if aseo_match else 0\n",
    "    laundry = 1 if re.search(r'Lavadero', texto) else 0\n",
    "    return pd.Series([terrace, aseo, laundry])\n",
    "\n",
    "# Aplicar la función y crear las nuevas columnas\n",
    "df[['terrace', 'aseo', 'laundry']] = df['General Characteristics'].apply(extraer_caracteristicas_generales)\n",
    "\n",
    "# Eliminar las líneas adicionales de la columna original\n",
    "df=df.drop('General Characteristics',axis=1)\n",
    "\n",
    "print(df)"
   ]
  },
  {
   "cell_type": "markdown",
   "id": "fc73cfd6-8695-4459-97a2-3ffd2ae44ea7",
   "metadata": {},
   "source": [
    "Ahora quiero ver qué valores adicionales de distribución hay."
   ]
  },
  {
   "cell_type": "code",
   "execution_count": 32,
   "id": "dc5946a2-bd87-4226-af57-ee55d469d226",
   "metadata": {
    "tags": []
   },
   "outputs": [
    {
     "data": {
      "text/plain": [
       "array([''], dtype=object)"
      ]
     },
     "execution_count": 32,
     "metadata": {},
     "output_type": "execute_result"
    }
   ],
   "source": [
    "df['gc_ad'].unique()"
   ]
  },
  {
   "cell_type": "markdown",
   "id": "77b1fb8c-9b95-4202-8214-22f81e8f2264",
   "metadata": {},
   "source": [
    "## 5. EPC Consum"
   ]
  },
  {
   "cell_type": "code",
   "execution_count": 67,
   "id": "f5b86943-f2a8-4e2b-82a2-cdd273cef836",
   "metadata": {
    "tags": []
   },
   "outputs": [
    {
     "data": {
      "text/html": [
       "<div>\n",
       "<style scoped>\n",
       "    .dataframe tbody tr th:only-of-type {\n",
       "        vertical-align: middle;\n",
       "    }\n",
       "\n",
       "    .dataframe tbody tr th {\n",
       "        vertical-align: top;\n",
       "    }\n",
       "\n",
       "    .dataframe thead th {\n",
       "        text-align: right;\n",
       "    }\n",
       "</style>\n",
       "<table border=\"1\" class=\"dataframe\">\n",
       "  <thead>\n",
       "    <tr style=\"text-align: right;\">\n",
       "      <th></th>\n",
       "      <th>EPC_Consum</th>\n",
       "    </tr>\n",
       "  </thead>\n",
       "  <tbody>\n",
       "    <tr>\n",
       "      <th>0</th>\n",
       "      <td>Consumo:\\n\\n \\n\\n153 kW h m2 / año</td>\n",
       "    </tr>\n",
       "    <tr>\n",
       "      <th>1</th>\n",
       "      <td>Consumo:\\n\\nD\\n\\n150 kW h m2 / año</td>\n",
       "    </tr>\n",
       "    <tr>\n",
       "      <th>2</th>\n",
       "      <td>Consumo:\\n\\nG\\n\\n266 kW h m2 / año</td>\n",
       "    </tr>\n",
       "  </tbody>\n",
       "</table>\n",
       "</div>"
      ],
      "text/plain": [
       "                           EPC_Consum\n",
       "0  Consumo:\\n\\n \\n\\n153 kW h m2 / año\n",
       "1  Consumo:\\n\\nD\\n\\n150 kW h m2 / año\n",
       "2  Consumo:\\n\\nG\\n\\n266 kW h m2 / año"
      ]
     },
     "execution_count": 67,
     "metadata": {},
     "output_type": "execute_result"
    }
   ],
   "source": [
    "import pandas as pd\n",
    "import re\n",
    "\n",
    "# Crear DataFrame de ejemplo\n",
    "datos = {'EPC_Consum': [\n",
    "    'Consumo:\\n\\n \\n\\n153 kW h m2 / año',\n",
    "    'Consumo:\\n\\nD\\n\\n150 kW h m2 / año',\n",
    "    'Consumo:\\n\\nG\\n\\n266 kW h m2 / año']}\n",
    "\n",
    "df = pd.DataFrame(datos)\n",
    "df"
   ]
  },
  {
   "cell_type": "code",
   "execution_count": 68,
   "id": "e81d3447-12ec-40fe-b415-8254b76d2c5d",
   "metadata": {
    "tags": []
   },
   "outputs": [
    {
     "name": "stdout",
     "output_type": "stream",
     "text": [
      "  consum_EPC  kwhm2_year\n",
      "0       None         153\n",
      "1          D         150\n",
      "2          G         266\n"
     ]
    }
   ],
   "source": [
    "# Función para extraer la letra de la segunda línea\n",
    "def extraer_letra(texto):\n",
    "    resultado = re.search(r'(?<=\\n)\\w(?=\\n)', texto)\n",
    "    if resultado:\n",
    "        return resultado.group()\n",
    "    else:\n",
    "        return None\n",
    "\n",
    "# Función para extraer el valor numérico de la tercera línea\n",
    "def extraer_valor(texto):\n",
    "    resultado = re.search(r'(?<=\\n)\\d+(?= kW h m2 / año)', texto)\n",
    "    if resultado:\n",
    "        return int(resultado.group())\n",
    "    else:\n",
    "        return None\n",
    "\n",
    "# Aplicar las funciones y crear las nuevas columnas\n",
    "df['consum_EPC'] = df['EPC_Consum'].apply(extraer_letra)\n",
    "df['kwhm2_year'] = df['EPC_Consum'].apply(extraer_valor)\n",
    "\n",
    "# Eliminar las líneas adicionales de la columna original\n",
    "df= df.drop('EPC_Consum', axis=1)\n",
    "\n",
    "print(df)"
   ]
  },
  {
   "cell_type": "markdown",
   "id": "2de9730f-32ab-4a44-a68b-665822a645d3",
   "metadata": {},
   "source": [
    "## 6. EPC Emission"
   ]
  },
  {
   "cell_type": "code",
   "execution_count": 42,
   "id": "896a1206-a356-4d2b-8b4c-42a2e3d06c11",
   "metadata": {
    "tags": []
   },
   "outputs": [
    {
     "data": {
      "text/html": [
       "<div>\n",
       "<style scoped>\n",
       "    .dataframe tbody tr th:only-of-type {\n",
       "        vertical-align: middle;\n",
       "    }\n",
       "\n",
       "    .dataframe tbody tr th {\n",
       "        vertical-align: top;\n",
       "    }\n",
       "\n",
       "    .dataframe thead th {\n",
       "        text-align: right;\n",
       "    }\n",
       "</style>\n",
       "<table border=\"1\" class=\"dataframe\">\n",
       "  <thead>\n",
       "    <tr style=\"text-align: right;\">\n",
       "      <th></th>\n",
       "      <th>EPC_Emission</th>\n",
       "    </tr>\n",
       "  </thead>\n",
       "  <tbody>\n",
       "    <tr>\n",
       "      <th>0</th>\n",
       "      <td>Emisión:\\n\\nE\\n\\n153 kg CO2 m2 / año</td>\n",
       "    </tr>\n",
       "    <tr>\n",
       "      <th>1</th>\n",
       "      <td>Emisión:\\n\\nD\\n\\n150 kg CO2 m2 / año</td>\n",
       "    </tr>\n",
       "    <tr>\n",
       "      <th>2</th>\n",
       "      <td>Emisión:\\n\\nG\\n\\n266 kg CO2 m2 / año</td>\n",
       "    </tr>\n",
       "  </tbody>\n",
       "</table>\n",
       "</div>"
      ],
      "text/plain": [
       "                           EPC_Emission\n",
       "0  Emisión:\\n\\nE\\n\\n153 kg CO2 m2 / año\n",
       "1  Emisión:\\n\\nD\\n\\n150 kg CO2 m2 / año\n",
       "2  Emisión:\\n\\nG\\n\\n266 kg CO2 m2 / año"
      ]
     },
     "execution_count": 42,
     "metadata": {},
     "output_type": "execute_result"
    }
   ],
   "source": [
    "import pandas as pd\n",
    "import re\n",
    "\n",
    "# Crear DataFrame de ejemplo\n",
    "datos = {'EPC_Emission': [\n",
    "    'Emisión:\\n\\nE\\n\\n153 kg CO2 m2 / año',\n",
    "    'Emisión:\\n\\nD\\n\\n150 kg CO2 m2 / año',\n",
    "    'Emisión:\\n\\nG\\n\\n266 kg CO2 m2 / año']}\n",
    "\n",
    "df = pd.DataFrame(datos)\n",
    "df"
   ]
  },
  {
   "cell_type": "code",
   "execution_count": 43,
   "id": "806781f4-cb93-4165-aba5-e3e8d8361023",
   "metadata": {
    "tags": []
   },
   "outputs": [
    {
     "name": "stdout",
     "output_type": "stream",
     "text": [
      "  Emission_EPC  kgCO2m2_year\n",
      "0            E           153\n",
      "1            D           150\n",
      "2            G           266\n"
     ]
    }
   ],
   "source": [
    "# Función para extraer la letra de la segunda línea\n",
    "def extraer_letra(texto):\n",
    "    resultado = re.search(r'(?<=\\n)\\w(?=\\n)', texto)\n",
    "    if resultado:\n",
    "        return resultado.group()\n",
    "    else:\n",
    "        return None\n",
    "\n",
    "# Función para extraer el valor numérico de la tercera línea\n",
    "def extraer_valor(texto):\n",
    "    resultado = re.search(r'(?<=\\n)\\d+(?= kg CO2 m2 / año)', texto)\n",
    "    if resultado:\n",
    "        return int(resultado.group())\n",
    "    else:\n",
    "        return None\n",
    "\n",
    "# Aplicar las funciones y crear las nuevas columnas\n",
    "df['emission_EPC'] = df['EPC_Emission'].apply(extraer_letra)\n",
    "df['kgco2m2_year'] = df['EPC_Emission'].apply(extraer_valor)\n",
    "\n",
    "# Eliminar las líneas adicionales de la columna original\n",
    "df= df.drop('EPC_Emission', axis=1)\n",
    "\n",
    "print(df)"
   ]
  },
  {
   "cell_type": "markdown",
   "id": "29950a77-8c6a-4fa6-b3b8-2f928d550387",
   "metadata": {},
   "source": [
    "## 7. Equipment"
   ]
  },
  {
   "cell_type": "code",
   "execution_count": 46,
   "id": "11d0029e-2fe2-4acd-bc4b-2840250de5aa",
   "metadata": {
    "tags": []
   },
   "outputs": [
    {
     "name": "stdout",
     "output_type": "stream",
     "text": [
      "                                           Equipment\n",
      "0  Características generales\\n\\nCalefacción \\nSin...\n",
      "1  Características generales\\n\\nAire acondicionad...\n",
      "2  Características generales\\n\\nSin plaza parking...\n"
     ]
    }
   ],
   "source": [
    "import pandas as pd\n",
    "import re\n",
    "\n",
    "# Crear DataFrame de ejemplo\n",
    "datos = {'Equipment': [\n",
    "    \"Características generales\\n\\nCalefacción \\nSin plaza parking\\nSin amueblar\\nAire acondicionado \\nAño construcción 1931\\n\\nCertificado energético : \\n\\n\\nConsumo:\\n\\nE\\n\\n153  kW h m2 / año\\nEmisiones: E\\n32  kg CO2 m2 / año\\n\\nVer etiqueta calificación energética\",\n",
    "    \"Características generales\\n\\nAire acondicionado \\nPlanta número 3\\nAño construcción 1900\\n\\nCertificado energético : \\n\\n\\nConsumo:\\n\\nD\\n\\n150  kW h m2 / año\\nEmisiones: D\\n50  kg CO2 m2 / año\\n\\nVer etiqueta calificación energética\",\n",
    "    \"Características generales\\n\\nSin plaza parking\\nSin amueblar\\nAire acondicionado \\nAño construcción 1945\\n\\nCertificado energético : \\n\\n\\nConsumo:\\n\\nG\\n\\n266  kW h m2 / año\\nEmisiones: G\\n41  kg CO2 m2 / año\\n\\nVer etiqueta calificación energética\"]}\n",
    "\n",
    "df = pd.DataFrame(datos)\n",
    "print(df)"
   ]
  },
  {
   "cell_type": "code",
   "execution_count": 47,
   "id": "406405f3-0ea1-4d4f-9bd5-6d5434b1b51a",
   "metadata": {
    "tags": []
   },
   "outputs": [
    {
     "name": "stdout",
     "output_type": "stream",
     "text": [
      "   AC  Parking  Pool  Lift  Furniture  Public_Transp  Year_Construc\n",
      "0   1        0     0     0          0              0           1931\n",
      "1   1        0     0     0          0              0           1900\n",
      "2   1        0     0     0          0              0           1945\n"
     ]
    }
   ],
   "source": [
    "# Función para extraer la información de las características generales\n",
    "def extraer_caracteristicas(texto):\n",
    "    ac = 1 if re.search(r'Aire acondicionado(\\s*:\\s*Sí)?', texto) else 0\n",
    "    parking = 1 if re.search(r'Plaza parking', texto) else 0\n",
    "    pool = 1 if re.search(r'Piscina comunitaria', texto) else 0\n",
    "    lift = 1 if re.search(r'Ascensor', texto) else 0\n",
    "    furniture = 1 if re.search(r'Amueblado', texto) else 0\n",
    "    public_transp = 1 if re.search(r'Cerca de transporte público', texto) else 0\n",
    "    year_construc_match = re.search(r'Año construcción (\\d{4})', texto)\n",
    "    year_construc = int(year_construc_match.group(1)) if year_construc_match else 0\n",
    "    return pd.Series([ac, parking, pool, lift, furniture, public_transp, year_construc])\n",
    "\n",
    "# Aplicar la función y crear las nuevas columnas\n",
    "df[['AC', 'parking', 'pool', 'lift', 'furniture', 'public_transp', 'year_cons']] = df['Equipment'].apply(extraer_caracteristicas)"
   ]
  },
  {
   "cell_type": "markdown",
   "id": "69295620-d6a0-4104-a49d-f358247a5bca",
   "metadata": {},
   "source": [
    "## 8. Floor"
   ]
  },
  {
   "cell_type": "markdown",
   "id": "6ffa097b-fd52-4013-b099-aab370c0a9f1",
   "metadata": {},
   "source": [
    "Le di esta indicación a ChatGPT:\n",
    "En un dataframe con varias columnas quiero crear una nueva siguiendo estas reglas:\n",
    "1. Si en la columna \"Equipment\" hay un texto como \"Planta número\", en la nueva columna (a la que llamaremos 'floor') indicar el valor numérico que tiene a continuación.\n",
    "2. Si no se cumple la orden 1, revisar todas las demás columnas del dataframe y si en alguna menciona algo como \"Planta baja\", en la columna 'floor' indicar 0.\n",
    "3. Si no se cumple la regla 1 ni 2, en la columna 'floor' indicar el valor 999."
   ]
  },
  {
   "cell_type": "code",
   "execution_count": 62,
   "id": "1d996c04-859b-4e91-a942-8916ebab67ba",
   "metadata": {
    "tags": []
   },
   "outputs": [
    {
     "name": "stdout",
     "output_type": "stream",
     "text": [
      "         Equipment Other_Column\n",
      "0  Planta número 3         Algo\n",
      "1         Planta 5         Otro\n",
      "2  Planta número 8  Planta baja\n",
      "3          5 baños  Planta baja\n"
     ]
    }
   ],
   "source": [
    "import pandas as pd\n",
    "import re\n",
    "\n",
    "# Ejemplo de dataframe\n",
    "data = {\n",
    "    'Equipment': ['Planta número 3', 'Planta 5', 'Planta número 8', '5 baños'],\n",
    "    'Other_Column': ['Algo', 'Otro', 'Planta baja', 'Planta baja']\n",
    "}\n",
    "\n",
    "df = pd.DataFrame(data)\n",
    "print(df)"
   ]
  },
  {
   "cell_type": "code",
   "execution_count": 63,
   "id": "588579d7-5d4d-47f7-9000-0de8d3956dcc",
   "metadata": {
    "tags": []
   },
   "outputs": [
    {
     "name": "stdout",
     "output_type": "stream",
     "text": [
      "         Equipment Other_Column  floor\n",
      "0  Planta número 3         Algo      3\n",
      "1         Planta 5         Otro    999\n",
      "2  Planta número 8  Planta baja      8\n",
      "3          5 baños  Planta baja      0\n"
     ]
    }
   ],
   "source": [
    "# Función para aplicar las reglas y crear la nueva columna 'floor'\n",
    "def assign_floor(row):\n",
    "    if re.search(r'Planta número (\\d+)', row['Equipment']):\n",
    "        return int(re.search(r'Planta número (\\d+)', row['Equipment']).group(1))\n",
    "    elif re.search(r'Planta baja', ' '.join(row)):\n",
    "        return 0\n",
    "    else:\n",
    "        return 999\n",
    "\n",
    "# Aplicar la función a cada fila del dataframe\n",
    "df['floor'] = df.apply(assign_floor, axis=1)\n",
    "\n",
    "# Eliminar la columna original\n",
    "df = df.drop('Equipment',axis=1)"
   ]
  },
  {
   "cell_type": "markdown",
   "id": "8d7b80fb-a9cf-47cc-bad6-6f60620a4240",
   "metadata": {},
   "source": [
    "## 9. Adicionales"
   ]
  },
  {
   "cell_type": "code",
   "execution_count": null,
   "id": "1cd6fbb6-4bb5-4069-9246-c676af037b32",
   "metadata": {},
   "outputs": [],
   "source": [
    "# Definir función para extraer el valor numérico\n",
    "def extraer_valor_numerico(texto):\n",
    "    resultado = re.search(r'\\b(\\d+(?:\\.\\d+)?)\\b', texto)\n",
    "    if resultado:\n",
    "        return float(resultado.group(1))\n",
    "    else:\n",
    "        return None\n",
    "\n",
    "# Aplicar la función y crear la nueva columna 'precio_num'\n",
    "df['precio_eur'] = df['precio_eur'].apply(extraer_valor_numerico)"
   ]
  },
  {
   "cell_type": "code",
   "execution_count": null,
   "id": "4c67dd37-9bda-499d-80cf-0fadd7638cab",
   "metadata": {},
   "outputs": [],
   "source": [
    "# Dividir el texto por el guión y seleccionar la segunda parte\n",
    "df['location'] = df['Location'].str.split(' - ', expand=True)[1]\n",
    "\n",
    "df=df.drop('Location',axis=1)"
   ]
  },
  {
   "cell_type": "code",
   "execution_count": null,
   "id": "ab7086ca-1cae-4f51-b2ef-eb4c4aa3b537",
   "metadata": {},
   "outputs": [],
   "source": [
    "# Definir función para extraer los valores de longitud y latitud\n",
    "def extraer_lon_lat(texto):\n",
    "    lon = re.search(r'(\\d+\\.\\d+)', texto).group(1)\n",
    "    lat = re.search(r'(?<=VGPSLon\\\":-)(\\d+\\.\\d+)', texto).group(1)\n",
    "    return pd.Series([lon, lat])\n",
    "\n",
    "# Aplicar la función y crear las nuevas columnas 'Lon_X' y 'Lat_Y'\n",
    "df[['Lon_X', 'Lat_Y']] = df['Lon/Lat'].apply(extraer_lon_lat)\n",
    "\n",
    "df=df.drop('Lon/Lat',axis=1)"
   ]
  },
  {
   "cell_type": "markdown",
   "id": "638b51ea-769a-479d-b568-c78cb9c380a3",
   "metadata": {},
   "source": [
    "## 10. Revisión final"
   ]
  },
  {
   "cell_type": "code",
   "execution_count": null,
   "id": "217236d2-db52-401f-a2f5-d5b211c6e84a",
   "metadata": {},
   "outputs": [],
   "source": [
    "print(df.columns.tolist())"
   ]
  },
  {
   "cell_type": "code",
   "execution_count": null,
   "id": "b07d6e51-e6dd-4477-bf3b-810fc9341f36",
   "metadata": {},
   "outputs": [],
   "source": [
    "df.head(10)"
   ]
  }
 ],
 "metadata": {
  "kernelspec": {
   "display_name": "Python 3 (ipykernel)",
   "language": "python",
   "name": "python3"
  },
  "language_info": {
   "codemirror_mode": {
    "name": "ipython",
    "version": 3
   },
   "file_extension": ".py",
   "mimetype": "text/x-python",
   "name": "python",
   "nbconvert_exporter": "python",
   "pygments_lexer": "ipython3",
   "version": "3.11.5"
  }
 },
 "nbformat": 4,
 "nbformat_minor": 5
}
