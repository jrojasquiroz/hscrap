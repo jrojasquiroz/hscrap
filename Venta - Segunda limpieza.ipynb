{
 "cells": [
  {
   "cell_type": "code",
   "execution_count": 1,
   "id": "96a2597a-467a-4a03-aff5-243d2ceb3103",
   "metadata": {
    "tags": []
   },
   "outputs": [],
   "source": [
    "import pandas as pd\n",
    "#import difflib"
   ]
  },
  {
   "cell_type": "markdown",
   "id": "71616c80-1e80-46ae-a715-9f4fea4b510e",
   "metadata": {},
   "source": [
    "# Venta"
   ]
  },
  {
   "cell_type": "markdown",
   "id": "6cf0a7d7-4b21-4801-9341-e22994e30d4d",
   "metadata": {
    "tags": []
   },
   "source": [
    "## Fase 1"
   ]
  },
  {
   "cell_type": "markdown",
   "id": "fc66fb81-0299-4693-8304-c0263c5a7698",
   "metadata": {},
   "source": [
    "Voy a dejar un poco más limpio el dataframe. Eliminaré variables que no aportan mucho (porque ya tienen un one-hot encoding, por ejemplo) y luego limpiaré aquellas observaciones que tienen `n_baths`=0."
   ]
  },
  {
   "cell_type": "code",
   "execution_count": 2,
   "id": "89d2a0dc-1200-4542-a537-22e5a881dfd3",
   "metadata": {
    "tags": []
   },
   "outputs": [],
   "source": [
    "df=pd.read_excel('data/primera_ronda/pre-procesado/v-prov_mad-abril24.xlsx')"
   ]
  },
  {
   "cell_type": "markdown",
   "id": "b54cee01-e93a-455a-9c2e-7a2b7b610db6",
   "metadata": {},
   "source": [
    "Elimino `terrace_m2` porque no todos los pisos tienen información sobre su metraje. En cambio, sí sobre si tienen o no una terraza."
   ]
  },
  {
   "cell_type": "code",
   "execution_count": 3,
   "id": "b1393894-8a41-4c94-8cdd-0841f7f282a8",
   "metadata": {
    "tags": []
   },
   "outputs": [],
   "source": [
    "df=df.drop(['year_cons','floor','consum_EPC','emission_EPC','terrace_m2'],axis=1)"
   ]
  },
  {
   "cell_type": "markdown",
   "id": "416c147c-a641-401f-950f-b33103ed2c46",
   "metadata": {},
   "source": [
    "Además elimino casos que no tengan baños o con un área menor a 1 m$^2$. Aquí se van un montón de casos (para RMB alrededor de 10k)."
   ]
  },
  {
   "cell_type": "code",
   "execution_count": 4,
   "id": "17076ba6-e9ff-4959-ac33-a474d3f17e23",
   "metadata": {
    "tags": []
   },
   "outputs": [
    {
     "name": "stdout",
     "output_type": "stream",
     "text": [
      "Longitud de datos: 17604\n"
     ]
    }
   ],
   "source": [
    "df = df[(df['n_baths'] != 0) & (df['area'] > 1)]\n",
    "print(\"Longitud de datos:\", len(df))"
   ]
  },
  {
   "cell_type": "markdown",
   "id": "9a16efac-f554-4356-9a4f-cfab7ba1b130",
   "metadata": {},
   "source": [
    "## Multifamiliares"
   ]
  },
  {
   "cell_type": "code",
   "execution_count": 5,
   "id": "53d1f9a5-225c-4250-b9ab-cbfabe0d9b73",
   "metadata": {
    "tags": []
   },
   "outputs": [
    {
     "name": "stdout",
     "output_type": "stream",
     "text": [
      "Longitud de df multifam: 10544\n"
     ]
    }
   ],
   "source": [
    "df = df[df['multifam'] == 1]\n",
    "print(\"Longitud de df multifam:\", len(df))"
   ]
  },
  {
   "cell_type": "markdown",
   "id": "ec0657b5-cc5c-41ef-99f9-dcba865ac2a1",
   "metadata": {},
   "source": [
    "## Etiquetas EPC"
   ]
  },
  {
   "cell_type": "markdown",
   "id": "f95b31f6-dcf9-4f82-a6ed-2e8363d20d5e",
   "metadata": {},
   "source": [
    "Reviso cuántos pisos tienen información de etiquetas EPC."
   ]
  },
  {
   "cell_type": "code",
   "execution_count": 6,
   "id": "2d2fea1d-2004-4a2d-89ee-29cd3d7d7638",
   "metadata": {
    "tags": []
   },
   "outputs": [
    {
     "name": "stdout",
     "output_type": "stream",
     "text": [
      "  DataFrame  Total datos  consum_EPC  emission_EPC      Ambas\n",
      "0        df        10544   96.500379     96.500379  96.500379\n"
     ]
    }
   ],
   "source": [
    "# Contar cuántas filas tienen valor 1 en la columna 'dummy_consum_EPC' de cada DataFrame\n",
    "filas_con_1_consum_EPC_df = (df['dummy_consum_EPC'] == 1).sum()/len(df)*100\n",
    "\n",
    "# Contar cuántas filas tienen valor 1 en la columna 'dummy_emission_EPC' de cada DataFrame\n",
    "filas_con_1_emission_EPC_df = (df['dummy_emission_EPC'] == 1).sum()/len(df)*100\n",
    "\n",
    "# Contar cuántas filas tienen valor 1 en ambas columnas 'dummy_consum_EPC' y 'dummy_emission_EPC' de cada DataFrame\n",
    "filas_con_1_en_ambas_df = ((df['dummy_consum_EPC'] == 1) & (df['dummy_emission_EPC'] == 1)).sum()/len(df)*100\n",
    "\n",
    "# Crear una tabla para mostrar el conteo por cada DataFrame\n",
    "conteo_por_df = pd.DataFrame({\n",
    "    'DataFrame': ['df'],\n",
    "    'Total datos':[len(df)],\n",
    "    'consum_EPC': [filas_con_1_consum_EPC_df],\n",
    "    'emission_EPC': [filas_con_1_emission_EPC_df],\n",
    "    'Ambas': [filas_con_1_en_ambas_df]\n",
    "})\n",
    "\n",
    "# Mostrar la tabla\n",
    "print(conteo_por_df)"
   ]
  },
  {
   "cell_type": "markdown",
   "id": "77919fb7-73ed-4c69-aca3-edfdf3aad1a3",
   "metadata": {},
   "source": [
    "De los que tienen información, cuántos tienen valores inválidos."
   ]
  },
  {
   "cell_type": "code",
   "execution_count": 7,
   "id": "fa526bca-ec7d-472e-ad86-b2fd1f200f60",
   "metadata": {
    "tags": []
   },
   "outputs": [],
   "source": [
    "df['kwhm2_year'] = df['kwhm2_year'].fillna(0)\n",
    "df['kgCO2m2_year'] = df['kgCO2m2_year'].fillna(0)"
   ]
  },
  {
   "cell_type": "code",
   "execution_count": 8,
   "id": "19d7a619-21f1-451c-b30d-1486ade3740f",
   "metadata": {
    "tags": []
   },
   "outputs": [
    {
     "name": "stdout",
     "output_type": "stream",
     "text": [
      "  DataFrame  999 consum  999 emission\n",
      "0        df   83.393399     96.500379\n"
     ]
    }
   ],
   "source": [
    "# Calcular el porcentaje de filas donde 'kwhm2_year' tiene valor 999 o 0 (está vacía) respecto a 'dummy_consum_EPC' con valor 1 para cada DataFrame\n",
    "porcentaje_kwhm2_999_consum_df = ((df['dummy_consum_EPC'] == 1) & (df['kwhm2_year'].isin([999, 0]))).mean() * 100\n",
    "\n",
    "# Calcular el porcentaje de filas donde 'kgCO2m2_year' tiene valor 999 o 0 (está vacía) respecto a 'dummy_emission_EPC' con valor 1 para cada DataFrame\n",
    "porcentaje_kgCO2m2_999_emission_df = ((df['dummy_emission_EPC'] == 1) & (df['kgCO2m2_year'].isin([999, 0]))).mean() * 100\n",
    "\n",
    "# Crear una tabla para mostrar los porcentajes por cada DataFrame\n",
    "porcentaje_por_df = pd.DataFrame({\n",
    "    'DataFrame': ['df'],\n",
    "    \"999 consum\": [porcentaje_kwhm2_999_consum_df],\n",
    "    \"999 emission\": [porcentaje_kgCO2m2_999_emission_df]\n",
    "})\n",
    "\n",
    "# Mostrar la tabla\n",
    "print(porcentaje_por_df)"
   ]
  },
  {
   "cell_type": "markdown",
   "id": "103891e8-84e8-4e63-837f-8e55274d1e47",
   "metadata": {},
   "source": [
    "<mark>¡Son un montón!</mark> Si las quitáramos, borraríamos todo el dataset, dado que ese 68% no necesariamente está dentro del 97% (ya lo he corroborado)."
   ]
  },
  {
   "cell_type": "code",
   "execution_count": 9,
   "id": "42c76609-a7a0-4c64-9514-181af5d91443",
   "metadata": {},
   "outputs": [],
   "source": [
    "# Eliminar filas con valor 0 en 'dummy_consum_EPC' y/o 'dummy_emission_EPC'\n",
    "#df = df[~((df['dummy_consum_EPC'] == 0) | (df['dummy_emission_EPC'] == 0))]\n",
    "\n",
    "# Mostrar la longitud de cada DataFrame después de eliminar las filas\n",
    "#print(\"Longitud después de eliminar filas:\", len(df))"
   ]
  },
  {
   "cell_type": "code",
   "execution_count": 10,
   "id": "9c51ffc5-0c74-44ef-9911-66737fff4b36",
   "metadata": {
    "tags": []
   },
   "outputs": [],
   "source": [
    "# Eliminar filas con valores 999 o 0 en 'kgCO2m2_year' o 'kwhm2_year'\n",
    "#df = df[~((df['kwhm2_year'].isin([999, 0])) | (df['kgCO2m2_year'].isin([999, 0])))]\n",
    "#df.dropna(subset=['kwhm2_year', 'kgCO2m2_year'], inplace=True)"
   ]
  },
  {
   "cell_type": "markdown",
   "id": "6d6d4ccd-07d2-495c-babb-176819d4f040",
   "metadata": {},
   "source": [
    "Voy a crear una columna llamada `ID` para en el futuro tenerla como referencia de cada observación."
   ]
  },
  {
   "cell_type": "code",
   "execution_count": 11,
   "id": "247b5360-658e-4e58-8812-718c91bf8819",
   "metadata": {},
   "outputs": [],
   "source": [
    "df.reset_index(drop=True, inplace=True)\n",
    "df.index = df.index + 1\n",
    "df.insert(0, 'ID', df.index)"
   ]
  },
  {
   "cell_type": "code",
   "execution_count": 12,
   "id": "102bfa89-714c-45c9-91ae-e7a2135a64ed",
   "metadata": {
    "tags": []
   },
   "outputs": [],
   "source": [
    "df.to_excel('data/primera_ronda/v-prov_mad-abril24.xlsx', index=False)"
   ]
  },
  {
   "cell_type": "markdown",
   "id": "1e6dff14-740a-4f75-829f-f55e0b109883",
   "metadata": {},
   "source": [
    "**Algo que podemos evaluar a futuro es centrarnos sólo en el consumo**, puesto que tendríamos una cantidad de observaciones relativamente parecida a la de años anteriores."
   ]
  },
  {
   "cell_type": "code",
   "execution_count": 13,
   "id": "07402e86-2666-4afd-b37b-bca18165b803",
   "metadata": {
    "tags": []
   },
   "outputs": [
    {
     "data": {
      "text/plain": [
       "1751.000000000001"
      ]
     },
     "execution_count": 13,
     "metadata": {},
     "output_type": "execute_result"
    }
   ],
   "source": [
    "len(df)*(100-porcentaje_kwhm2_999_consum_df)/100"
   ]
  }
 ],
 "metadata": {
  "kernelspec": {
   "display_name": "Python 3 (ipykernel)",
   "language": "python",
   "name": "python3"
  },
  "language_info": {
   "codemirror_mode": {
    "name": "ipython",
    "version": 3
   },
   "file_extension": ".py",
   "mimetype": "text/x-python",
   "name": "python",
   "nbconvert_exporter": "python",
   "pygments_lexer": "ipython3",
   "version": "3.11.5"
  }
 },
 "nbformat": 4,
 "nbformat_minor": 5
}
