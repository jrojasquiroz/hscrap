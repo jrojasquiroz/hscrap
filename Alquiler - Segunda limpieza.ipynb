{
 "cells": [
  {
   "cell_type": "code",
   "execution_count": 13,
   "id": "96a2597a-467a-4a03-aff5-243d2ceb3103",
   "metadata": {
    "tags": []
   },
   "outputs": [],
   "source": [
    "import pandas as pd\n",
    "import difflib"
   ]
  },
  {
   "cell_type": "markdown",
   "id": "71616c80-1e80-46ae-a715-9f4fea4b510e",
   "metadata": {},
   "source": [
    "# Alquiler"
   ]
  },
  {
   "cell_type": "markdown",
   "id": "6cf0a7d7-4b21-4801-9341-e22994e30d4d",
   "metadata": {
    "tags": []
   },
   "source": [
    "## Fase 1"
   ]
  },
  {
   "cell_type": "markdown",
   "id": "fc66fb81-0299-4693-8304-c0263c5a7698",
   "metadata": {},
   "source": [
    "Voy a dejar un poco más limpio el dataframe. Eliminaré variables que no aportan mucho (porque ya tienen un one-hot encoding, por ejemplo) y luego limpiaré aquellas observaciones que tienen `n_baths`=0 y `area`<=1)."
   ]
  },
  {
   "cell_type": "code",
   "execution_count": 14,
   "id": "89d2a0dc-1200-4542-a537-22e5a881dfd3",
   "metadata": {
    "tags": []
   },
   "outputs": [],
   "source": [
    "dfm=pd.read_excel('data/pre-procesado/a-prov_mad-marzo24.xlsx')\n",
    "dfb=pd.read_excel('data/pre-procesado/a-mun_bcn-marzo24.xlsx')\n",
    "dfr=pd.read_excel('data/pre-procesado/a-rmb-sin_bcn-marzo24.xlsx')"
   ]
  },
  {
   "cell_type": "markdown",
   "id": "b54cee01-e93a-455a-9c2e-7a2b7b610db6",
   "metadata": {},
   "source": [
    "Elimino `terrace_m2` porque no todos los pisos tienen información sobre su metraje. En cambio, sí sobre si tienen o no una terraza."
   ]
  },
  {
   "cell_type": "code",
   "execution_count": 15,
   "id": "b1393894-8a41-4c94-8cdd-0841f7f282a8",
   "metadata": {
    "tags": []
   },
   "outputs": [],
   "source": [
    "dfm=dfm.drop(['year_cons','floor','consum_EPC','emission_EPC','terrace_m2'],axis=1)\n",
    "dfb=dfb.drop(['year_cons','floor','consum_EPC','emission_EPC','terrace_m2'],axis=1)\n",
    "dfr=dfr.drop(['year_cons','floor','consum_EPC','emission_EPC','terrace_m2'],axis=1)"
   ]
  },
  {
   "cell_type": "code",
   "execution_count": 16,
   "id": "17076ba6-e9ff-4959-ac33-a474d3f17e23",
   "metadata": {
    "tags": []
   },
   "outputs": [
    {
     "name": "stdout",
     "output_type": "stream",
     "text": [
      "Longitud de datos de Madrid: 3461\n",
      "Longitud de datos de Barcelona municipio: 3139\n",
      "Longitud de datos de la RMB sin Barcelona municipio: 1605\n"
     ]
    }
   ],
   "source": [
    "dfm = dfm[(dfm['n_baths'] != 0) & (dfm['area'] > 1)]\n",
    "dfb = dfb[(dfb['n_baths'] != 0) & (dfb['area'] > 1)]\n",
    "dfr = dfr[(dfr['n_baths'] != 0) & (dfr['area'] > 1)]\n",
    "\n",
    "print(\"Longitud de datos de Madrid:\", len(dfm))\n",
    "print(\"Longitud de datos de Barcelona municipio:\", len(dfb))\n",
    "print(\"Longitud de datos de la RMB sin Barcelona municipio:\", len(dfr))"
   ]
  },
  {
   "cell_type": "code",
   "execution_count": 18,
   "id": "a84ae83c-87ab-40a6-87e3-888d68c5016a",
   "metadata": {
    "tags": []
   },
   "outputs": [
    {
     "name": "stdout",
     "output_type": "stream",
     "text": [
      "Unexpected exception formatting exception. Falling back to standard exception\n"
     ]
    },
    {
     "name": "stderr",
     "output_type": "stream",
     "text": [
      "Traceback (most recent call last):\n",
      "  File \"C:\\Users\\Usuari\\anaconda3\\Lib\\site-packages\\IPython\\core\\interactiveshell.py\", line 3526, in run_code\n",
      "    exec(code_obj, self.user_global_ns, self.user_ns)\n",
      "  File \"C:\\Users\\Usuari\\AppData\\Local\\Temp\\ipykernel_13272\\3707730314.py\", line 19, in <module>\n",
      "    if i != j and texto_similar(desc1, desc2):\n",
      "                  ^^^^^^^^^^^^^^^^^^^^^^^^^^^\n",
      "  File \"C:\\Users\\Usuari\\AppData\\Local\\Temp\\ipykernel_13272\\3707730314.py\", line 7, in texto_similar\n",
      "    return s.ratio() >= umbral\n",
      "           ^^^^^^^^^\n",
      "  File \"C:\\Users\\Usuari\\anaconda3\\Lib\\difflib.py\", line 619, in ratio\n",
      "    matches = sum(triple[-1] for triple in self.get_matching_blocks())\n",
      "                                           ^^^^^^^^^^^^^^^^^^^^^^^^^^\n",
      "  File \"C:\\Users\\Usuari\\anaconda3\\Lib\\difflib.py\", line 454, in get_matching_blocks\n",
      "    i, j, k = x = self.find_longest_match(alo, ahi, blo, bhi)\n",
      "                  ^^^^^^^^^^^^^^^^^^^^^^^^^^^^^^^^^^^^^^^^^^^\n",
      "  File \"C:\\Users\\Usuari\\anaconda3\\Lib\\difflib.py\", line -1, in find_longest_match\n",
      "KeyboardInterrupt\n",
      "\n",
      "During handling of the above exception, another exception occurred:\n",
      "\n",
      "Traceback (most recent call last):\n",
      "  File \"C:\\Users\\Usuari\\anaconda3\\Lib\\site-packages\\IPython\\core\\interactiveshell.py\", line 2120, in showtraceback\n",
      "    stb = self.InteractiveTB.structured_traceback(\n",
      "          ^^^^^^^^^^^^^^^^^^^^^^^^^^^^^^^^^^^^^^^^\n",
      "  File \"C:\\Users\\Usuari\\anaconda3\\Lib\\site-packages\\IPython\\core\\ultratb.py\", line 1435, in structured_traceback\n",
      "    return FormattedTB.structured_traceback(\n",
      "           ^^^^^^^^^^^^^^^^^^^^^^^^^^^^^^^^^\n",
      "  File \"C:\\Users\\Usuari\\anaconda3\\Lib\\site-packages\\IPython\\core\\ultratb.py\", line 1326, in structured_traceback\n",
      "    return VerboseTB.structured_traceback(\n",
      "           ^^^^^^^^^^^^^^^^^^^^^^^^^^^^^^^\n",
      "  File \"C:\\Users\\Usuari\\anaconda3\\Lib\\site-packages\\IPython\\core\\ultratb.py\", line 1173, in structured_traceback\n",
      "    formatted_exception = self.format_exception_as_a_whole(etype, evalue, etb, number_of_lines_of_context,\n",
      "                          ^^^^^^^^^^^^^^^^^^^^^^^^^^^^^^^^^^^^^^^^^^^^^^^^^^^^^^^^^^^^^^^^^^^^^^^^^^^^^^^^\n",
      "  File \"C:\\Users\\Usuari\\anaconda3\\Lib\\site-packages\\IPython\\core\\ultratb.py\", line 1088, in format_exception_as_a_whole\n",
      "    frames.append(self.format_record(record))\n",
      "                  ^^^^^^^^^^^^^^^^^^^^^^^^^^\n",
      "  File \"C:\\Users\\Usuari\\anaconda3\\Lib\\site-packages\\IPython\\core\\ultratb.py\", line 970, in format_record\n",
      "    frame_info.lines, Colors, self.has_colors, lvals\n",
      "    ^^^^^^^^^^^^^^^^\n",
      "  File \"C:\\Users\\Usuari\\anaconda3\\Lib\\site-packages\\IPython\\core\\ultratb.py\", line 792, in lines\n",
      "    return self._sd.lines\n",
      "           ^^^^^^^^^^^^^^\n",
      "  File \"C:\\Users\\Usuari\\anaconda3\\Lib\\site-packages\\stack_data\\utils.py\", line 145, in cached_property_wrapper\n",
      "    value = obj.__dict__[self.func.__name__] = self.func(obj)\n",
      "                                               ^^^^^^^^^^^^^^\n",
      "  File \"C:\\Users\\Usuari\\anaconda3\\Lib\\site-packages\\stack_data\\core.py\", line 698, in lines\n",
      "    pieces = self.included_pieces\n",
      "             ^^^^^^^^^^^^^^^^^^^^\n",
      "  File \"C:\\Users\\Usuari\\anaconda3\\Lib\\site-packages\\stack_data\\utils.py\", line 145, in cached_property_wrapper\n",
      "    value = obj.__dict__[self.func.__name__] = self.func(obj)\n",
      "                                               ^^^^^^^^^^^^^^\n",
      "  File \"C:\\Users\\Usuari\\anaconda3\\Lib\\site-packages\\stack_data\\core.py\", line 649, in included_pieces\n",
      "    pos = scope_pieces.index(self.executing_piece)\n",
      "                             ^^^^^^^^^^^^^^^^^^^^\n",
      "  File \"C:\\Users\\Usuari\\anaconda3\\Lib\\site-packages\\stack_data\\utils.py\", line 145, in cached_property_wrapper\n",
      "    value = obj.__dict__[self.func.__name__] = self.func(obj)\n",
      "                                               ^^^^^^^^^^^^^^\n",
      "  File \"C:\\Users\\Usuari\\anaconda3\\Lib\\site-packages\\stack_data\\core.py\", line 628, in executing_piece\n",
      "    return only(\n",
      "           ^^^^^\n",
      "  File \"C:\\Users\\Usuari\\anaconda3\\Lib\\site-packages\\executing\\executing.py\", line 164, in only\n",
      "    raise NotOneValueFound('Expected one value, found 0')\n",
      "executing.executing.NotOneValueFound: Expected one value, found 0\n"
     ]
    }
   ],
   "source": [
    "# Define la función de similitud de texto\n",
    "def texto_similar(texto1, texto2, umbral=0.95):\n",
    "    \"\"\"\n",
    "    Compara dos cadenas de texto y devuelve True si tienen una similitud superior al umbral dado.\n",
    "    \"\"\"\n",
    "    s = difflib.SequenceMatcher(None, texto1, texto2)\n",
    "    return s.ratio() >= umbral\n",
    "\n",
    "# Carga tus datos en un DataFrame\n",
    "# Suponiendo que ya tienes cargado tu DataFrame dfr\n",
    "\n",
    "# Convierte todos los valores de la columna 'Description' a cadenas de texto\n",
    "dfr['Description'] = dfr['Description'].astype(str)\n",
    "\n",
    "# Aplica la función texto_similar a la columna 'Description'\n",
    "duplicados = []\n",
    "for i, desc1 in enumerate(dfr['Description']):\n",
    "    for j, desc2 in enumerate(dfr['Description']):\n",
    "        if i != j and texto_similar(desc1, desc2):\n",
    "            duplicados.append((i, j))"
   ]
  },
  {
   "cell_type": "code",
   "execution_count": null,
   "id": "7c99fc60-3751-4e14-a4a1-7d4280cff7e1",
   "metadata": {},
   "outputs": [],
   "source": [
    "# Obtiene los índices únicos de las filas duplicadas\n",
    "indices_duplicados = set()\n",
    "for dupla in duplicados:\n",
    "    indices_duplicados.update(dupla)\n",
    "\n",
    "# Obtiene los índices que no están en los duplicados\n",
    "sin_duplicados = set(range(len(dfr))) - indices_duplicados\n",
    "\n",
    "sin_duplicados=list(sin_duplicados)"
   ]
  },
  {
   "cell_type": "markdown",
   "id": "600edd6a-e74c-437f-a4ad-fb0d67554d63",
   "metadata": {},
   "source": [
    "Ahora elimino duplicados."
   ]
  },
  {
   "cell_type": "code",
   "execution_count": 5,
   "id": "7f803c4e-6118-441b-a548-da98c91634c3",
   "metadata": {
    "tags": []
   },
   "outputs": [
    {
     "name": "stdout",
     "output_type": "stream",
     "text": [
      "Longitud de dfm después de eliminar duplicados: 3645\n",
      "Longitud de dfb después de eliminar duplicados: 3415\n",
      "Longitud de dfr después de eliminar duplicados: 1646\n"
     ]
    }
   ],
   "source": [
    "# Función para calcular la similitud entre dos cadenas\n",
    "def similarity(a, b):\n",
    "    return difflib.SequenceMatcher(None, a, b).ratio()\n",
    "\n",
    "# Umbral de similitud para 'Description'\n",
    "description_threshold = 0.95\n",
    "\n",
    "# Convertir todos los valores de la columna 'Description' a cadenas\n",
    "dfm['Description'] = dfm['Description'].astype(str)\n",
    "dfb['Description'] = dfb['Description'].astype(str)\n",
    "dfr['Description'] = dfr['Description'].astype(str)\n",
    "\n",
    "# Eliminar duplicados en dfm\n",
    "dfm['Description_Similarity'] = dfm['Description'].apply(lambda x: similarity(x, dfm['Description']))\n",
    "duplicates_dfm = dfm[(dfm['Description_Similarity'] >= description_threshold) &\n",
    "                    dfm.duplicated(subset=['area', 'precio_euros'], keep='first')]\n",
    "dfm.drop(duplicates_dfm.index, inplace=True)\n",
    "\n",
    "# Eliminar duplicados en dfb\n",
    "dfb['Description_Similarity'] = dfb['Description'].apply(lambda x: similarity(x, dfb['Description']))\n",
    "duplicates_dfb = dfb[(dfb['Description_Similarity'] >= description_threshold) &\n",
    "                    dfb.duplicated(subset=['area', 'precio_euros'], keep='first')]\n",
    "dfb.drop(duplicates_dfb.index, inplace=True)\n",
    "\n",
    "# Eliminar duplicados en dfr\n",
    "dfr['Description_Similarity'] = dfr['Description'].apply(lambda x: similarity(x, dfr['Description']))\n",
    "duplicates_dfr = dfr[(dfr['Description_Similarity'] >= description_threshold) &\n",
    "                    dfr.duplicated(subset=['area', 'precio_euros'], keep='first')]\n",
    "dfr.drop(duplicates_dfr.index, inplace=True)\n",
    "\n",
    "# Eliminar la columna de similitud agregada\n",
    "for df in [dfm, dfb, dfr]:\n",
    "    df.drop(columns=['Description_Similarity'], inplace=True)\n",
    "\n",
    "# Verificar la longitud de los DataFrames resultantes\n",
    "print(\"Longitud de dfm después de eliminar duplicados:\", len(dfm))\n",
    "print(\"Longitud de dfb después de eliminar duplicados:\", len(dfb))\n",
    "print(\"Longitud de dfr después de eliminar duplicados:\", len(dfr))"
   ]
  },
  {
   "cell_type": "markdown",
   "id": "9a16efac-f554-4356-9a4f-cfab7ba1b130",
   "metadata": {},
   "source": [
    "## Multifamiliares"
   ]
  },
  {
   "cell_type": "code",
   "execution_count": 6,
   "id": "53d1f9a5-225c-4250-b9ab-cbfabe0d9b73",
   "metadata": {
    "tags": []
   },
   "outputs": [
    {
     "name": "stdout",
     "output_type": "stream",
     "text": [
      "Longitud de dfm multifam: 2841\n",
      "Longitud de dfb multifam: 2965\n",
      "Longitud de dfr multifam: 1020\n"
     ]
    }
   ],
   "source": [
    "dfm = dfm[dfm['multifam'] == 1]\n",
    "dfb = dfb[dfb['multifam'] == 1]\n",
    "dfr = dfr[dfr['multifam'] == 1]\n",
    "print(\"Longitud de dfm multifam:\", len(dfm))\n",
    "print(\"Longitud de dfb multifam:\", len(dfb))\n",
    "print(\"Longitud de dfr multifam:\", len(dfr))"
   ]
  },
  {
   "cell_type": "markdown",
   "id": "ec0657b5-cc5c-41ef-99f9-dcba865ac2a1",
   "metadata": {},
   "source": [
    "## Etiquetas EPC"
   ]
  },
  {
   "cell_type": "markdown",
   "id": "f95b31f6-dcf9-4f82-a6ed-2e8363d20d5e",
   "metadata": {},
   "source": [
    "Reviso cuántos pisos tienen información de etiquetas EPC."
   ]
  },
  {
   "cell_type": "code",
   "execution_count": 7,
   "id": "2d2fea1d-2004-4a2d-89ee-29cd3d7d7638",
   "metadata": {
    "tags": []
   },
   "outputs": [
    {
     "name": "stdout",
     "output_type": "stream",
     "text": [
      "  DataFrame  Total datos  consum_EPC  emission_EPC      Ambas\n",
      "0       dfm         2841   97.008096     97.008096  97.008096\n",
      "1       dfb         2965   97.740304     97.740304  97.740304\n",
      "2       dfr         1020   98.431373     98.431373  98.431373\n"
     ]
    }
   ],
   "source": [
    "# Contar cuántas filas tienen valor 1 en la columna 'dummy_consum_EPC' de cada DataFrame\n",
    "filas_con_1_consum_EPC_dfm = (dfm['dummy_consum_EPC'] == 1).sum()/len(dfm)*100\n",
    "filas_con_1_consum_EPC_dfb = (dfb['dummy_consum_EPC'] == 1).sum()/len(dfb)*100\n",
    "filas_con_1_consum_EPC_dfr = (dfr['dummy_consum_EPC'] == 1).sum()/len(dfr)*100\n",
    "\n",
    "# Contar cuántas filas tienen valor 1 en la columna 'dummy_emission_EPC' de cada DataFrame\n",
    "filas_con_1_emission_EPC_dfm = (dfm['dummy_emission_EPC'] == 1).sum()/len(dfm)*100\n",
    "filas_con_1_emission_EPC_dfb = (dfb['dummy_emission_EPC'] == 1).sum()/len(dfb)*100\n",
    "filas_con_1_emission_EPC_dfr = (dfr['dummy_emission_EPC'] == 1).sum()/len(dfr)*100\n",
    "\n",
    "# Contar cuántas filas tienen valor 1 en ambas columnas 'dummy_consum_EPC' y 'dummy_emission_EPC' de cada DataFrame\n",
    "filas_con_1_en_ambas_dfm = ((dfm['dummy_consum_EPC'] == 1) & (dfm['dummy_emission_EPC'] == 1)).sum()/len(dfm)*100\n",
    "filas_con_1_en_ambas_dfb = ((dfb['dummy_consum_EPC'] == 1) & (dfb['dummy_emission_EPC'] == 1)).sum()/len(dfb)*100\n",
    "filas_con_1_en_ambas_dfr = ((dfr['dummy_consum_EPC'] == 1) & (dfr['dummy_emission_EPC'] == 1)).sum()/len(dfr)*100\n",
    "\n",
    "# Crear una tabla para mostrar el conteo por cada DataFrame\n",
    "conteo_por_df = pd.DataFrame({\n",
    "    'DataFrame': ['dfm', 'dfb', 'dfr'],\n",
    "    'Total datos':[len(dfm),len(dfb),len(dfr)],\n",
    "    'consum_EPC': [filas_con_1_consum_EPC_dfm, filas_con_1_consum_EPC_dfb, filas_con_1_consum_EPC_dfr],\n",
    "    'emission_EPC': [filas_con_1_emission_EPC_dfm, filas_con_1_emission_EPC_dfb, filas_con_1_emission_EPC_dfr],\n",
    "    'Ambas': [filas_con_1_en_ambas_dfm, filas_con_1_en_ambas_dfb, filas_con_1_en_ambas_dfr]\n",
    "})\n",
    "\n",
    "# Mostrar la tabla\n",
    "print(conteo_por_df)"
   ]
  },
  {
   "cell_type": "markdown",
   "id": "8b50cbdb-d015-467c-91f3-e601acebd2f5",
   "metadata": {},
   "source": [
    "En general, se observa que una gran proporción de pisos tienen información de su etiqueta EPC.\n",
    "\n",
    "A continuación reemplazaré las filas vacías de las columnas `kwhm2_year` y `kgCO2m2_year` por 0 para luego poder identificar qué observaciones podrían no tener cargada correctamente la info sobre su rendimiento energético."
   ]
  },
  {
   "cell_type": "code",
   "execution_count": 8,
   "id": "a4d82132-5099-43d7-86ce-0fa88d0bdb2b",
   "metadata": {},
   "outputs": [],
   "source": [
    "# Para dfm\n",
    "dfm.loc[:, 'kwhm2_year'] = dfm['kwhm2_year'].fillna(0)\n",
    "dfm.loc[:, 'kgCO2m2_year'] = dfm['kgCO2m2_year'].fillna(0)\n",
    "\n",
    "# Para dfb\n",
    "dfb.loc[:, 'kwhm2_year'] = dfb['kwhm2_year'].fillna(0)\n",
    "dfb.loc[:, 'kgCO2m2_year'] = dfb['kgCO2m2_year'].fillna(0)\n",
    "\n",
    "# Para dfr\n",
    "dfr.loc[:, 'kwhm2_year'] = dfr['kwhm2_year'].fillna(0)\n",
    "dfr.loc[:, 'kgCO2m2_year'] = dfr['kgCO2m2_year'].fillna(0)"
   ]
  },
  {
   "cell_type": "markdown",
   "id": "77919fb7-73ed-4c69-aca3-edfdf3aad1a3",
   "metadata": {},
   "source": [
    "De los que tienen información, cuántos tienen valores inválidos (999, 0)."
   ]
  },
  {
   "cell_type": "code",
   "execution_count": 9,
   "id": "19d7a619-21f1-451c-b30d-1486ade3740f",
   "metadata": {
    "tags": []
   },
   "outputs": [
    {
     "name": "stdout",
     "output_type": "stream",
     "text": [
      "  DataFrame  999 consum  999 emission\n",
      "0       dfm   77.120732     97.008096\n",
      "1       dfb   73.389545     97.740304\n",
      "2       dfr   76.274510     98.431373\n"
     ]
    }
   ],
   "source": [
    "# Calcular el porcentaje de filas donde 'kwhm2_year' tiene valor 999, 0 o está vacía respecto a 'dummy_consum_EPC' con valor 1 para cada DataFrame\n",
    "porcentaje_kwhm2_999_consum_dfm = ((dfm['dummy_consum_EPC'] == 1) & (dfm['kwhm2_year'].isin([999, 0, '']))).mean() * 100\n",
    "porcentaje_kwhm2_999_consum_dfb = ((dfb['dummy_consum_EPC'] == 1) & (dfb['kwhm2_year'].isin([999, 0, '']))).mean() * 100\n",
    "porcentaje_kwhm2_999_consum_dfr = ((dfr['dummy_consum_EPC'] == 1) & (dfr['kwhm2_year'].isin([999, 0, '']))).mean() * 100\n",
    "\n",
    "# Calcular el porcentaje de filas donde 'kgCO2m2_year' tiene valor 999, 0 o está vacía respecto a 'dummy_emission_EPC' con valor 1 para cada DataFrame\n",
    "porcentaje_kgCO2m2_999_emission_dfm = ((dfm['dummy_emission_EPC'] == 1) & (dfm['kgCO2m2_year'].isin([999, 0, '']))).mean() * 100\n",
    "porcentaje_kgCO2m2_999_emission_dfb = ((dfb['dummy_emission_EPC'] == 1) & (dfb['kgCO2m2_year'].isin([999, 0, '']))).mean() * 100\n",
    "porcentaje_kgCO2m2_999_emission_dfr = ((dfr['dummy_emission_EPC'] == 1) & (dfr['kgCO2m2_year'].isin([999, 0, '']))).mean() * 100\n",
    "\n",
    "# Crear una tabla para mostrar los porcentajes por cada DataFrame\n",
    "porcentaje_por_df = pd.DataFrame({\n",
    "    'DataFrame': ['dfm', 'dfb', 'dfr'],\n",
    "    \"999 consum\": [porcentaje_kwhm2_999_consum_dfm, porcentaje_kwhm2_999_consum_dfb, porcentaje_kwhm2_999_consum_dfr],\n",
    "    \"999 emission\": [porcentaje_kgCO2m2_999_emission_dfm, porcentaje_kgCO2m2_999_emission_dfb, porcentaje_kgCO2m2_999_emission_dfr]\n",
    "})\n",
    "\n",
    "# Mostrar la tabla\n",
    "print(porcentaje_por_df)"
   ]
  },
  {
   "cell_type": "markdown",
   "id": "103891e8-84e8-4e63-837f-8e55274d1e47",
   "metadata": {},
   "source": [
    "En general, el porcentaje es bastante alto, por lo que no quitaré esas filas, sólo aquellas que no tienen la letra de su etiqueta EPC.\n",
    "\n",
    "En el código que viene a continuación lo había hecho pero lo dejo como comentario."
   ]
  },
  {
   "cell_type": "code",
   "execution_count": 10,
   "id": "b69c6cb9-ae52-46f8-b92d-510aec5eaa56",
   "metadata": {
    "tags": []
   },
   "outputs": [],
   "source": [
    "# Eliminar filas con valor 0 en 'dummy_consum_EPC' y/o 'dummy_emission_EPC'\n",
    "dfm = dfm[~((dfm['dummy_consum_EPC'] == 0) | (dfm['dummy_emission_EPC'] == 0))]\n",
    "dfb = dfb[~((dfb['dummy_consum_EPC'] == 0) | (dfb['dummy_emission_EPC'] == 0))]\n",
    "dfr = dfr[~((dfr['dummy_consum_EPC'] == 0) | (dfr['dummy_emission_EPC'] == 0))]\n",
    "\n",
    "# Eliminar filas con valores 999, 0 o vacíos en 'kgCO2m2_year' y/o 'kwhm2_year'\n",
    "#dfm = dfm[~((dfm['kwhm2_year'].isin([999, 0])) | (dfm['kgCO2m2_year'].isin([999, 0])))]\n",
    "#dfb = dfb[~((dfb['kwhm2_year'].isin([999, 0])) | (dfb['kgCO2m2_year'].isin([999, 0])))]\n",
    "#dfr = dfr[~((dfr['kwhm2_year'].isin([999, 0])) | (dfr['kgCO2m2_year'].isin([999, 0])))]\n",
    "\n",
    "# Mostrar la longitud de cada DataFrame después de eliminar las filas\n",
    "#print(\"Longitud de dfm después de eliminar filas:\", len(dfm))\n",
    "#print(\"Longitud de dfb después de eliminar filas:\", len(dfb))\n",
    "#print(\"Longitud de dfr después de eliminar filas:\", len(dfr))"
   ]
  },
  {
   "cell_type": "code",
   "execution_count": 11,
   "id": "909c0edd-dcf5-4548-8763-1c80adf958bc",
   "metadata": {
    "tags": []
   },
   "outputs": [],
   "source": [
    "dfm.to_excel('data/a-prov_mad-marzo24.xlsx', index=False)\n",
    "#Estos necesitarán un paso más, por eso los mantengo en pre-procesado\n",
    "dfb.to_excel('data/pre-procesado/a-mun_bcn-marzo24-1.xlsx', index=False)\n",
    "dfr.to_excel('data/pre-procesado/a-rmb-sin_bcn-marzo24-1.xlsx', index=False)"
   ]
  }
 ],
 "metadata": {
  "kernelspec": {
   "display_name": "Python 3 (ipykernel)",
   "language": "python",
   "name": "python3"
  },
  "language_info": {
   "codemirror_mode": {
    "name": "ipython",
    "version": 3
   },
   "file_extension": ".py",
   "mimetype": "text/x-python",
   "name": "python",
   "nbconvert_exporter": "python",
   "pygments_lexer": "ipython3",
   "version": "3.11.5"
  }
 },
 "nbformat": 4,
 "nbformat_minor": 5
}
