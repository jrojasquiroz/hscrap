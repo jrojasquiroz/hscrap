{
 "cells": [
  {
   "cell_type": "markdown",
   "id": "fc66fb81-0299-4693-8304-c0263c5a7698",
   "metadata": {},
   "source": [
    "Voy a dejar un poco más limpio el dataframe. Eliminaré variables que no aportan mucho (porque ya tienen un one-hot encoding, por ejemplo) y luego limpiaré aquellas observaciones que tienen `n_baths`=0."
   ]
  },
  {
   "cell_type": "code",
   "execution_count": 1,
   "id": "89d2a0dc-1200-4542-a537-22e5a881dfd3",
   "metadata": {
    "tags": []
   },
   "outputs": [],
   "source": [
    "import pandas as pd\n",
    "df=pd.read_excel('data/habitaclia_madrid_2024.xlsx')"
   ]
  },
  {
   "cell_type": "code",
   "execution_count": 2,
   "id": "b1393894-8a41-4c94-8cdd-0841f7f282a8",
   "metadata": {
    "tags": []
   },
   "outputs": [],
   "source": [
    "df=df.drop(['year_cons','floor','consum_EPC',\n",
    "            'kwhm2_year','emission_EPC','kgCO2m2_year'],\n",
    "            axis=1)"
   ]
  },
  {
   "cell_type": "code",
   "execution_count": 3,
   "id": "17076ba6-e9ff-4959-ac33-a474d3f17e23",
   "metadata": {
    "tags": []
   },
   "outputs": [],
   "source": [
    "df = df[df['n_baths'] != 0]"
   ]
  },
  {
   "cell_type": "code",
   "execution_count": 4,
   "id": "909c0edd-dcf5-4548-8763-1c80adf958bc",
   "metadata": {
    "tags": []
   },
   "outputs": [],
   "source": [
    "df.to_excel('data/habitaclia_madrid_2024-f1.xlsx', index=False)"
   ]
  }
 ],
 "metadata": {
  "kernelspec": {
   "display_name": "Python 3 (ipykernel)",
   "language": "python",
   "name": "python3"
  },
  "language_info": {
   "codemirror_mode": {
    "name": "ipython",
    "version": 3
   },
   "file_extension": ".py",
   "mimetype": "text/x-python",
   "name": "python",
   "nbconvert_exporter": "python",
   "pygments_lexer": "ipython3",
   "version": "3.11.5"
  }
 },
 "nbformat": 4,
 "nbformat_minor": 5
}
