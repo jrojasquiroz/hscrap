{
 "cells": [
  {
   "cell_type": "code",
   "execution_count": 1,
   "id": "96a2597a-467a-4a03-aff5-243d2ceb3103",
   "metadata": {
    "tags": []
   },
   "outputs": [],
   "source": [
    "import pandas as pd"
   ]
  },
  {
   "cell_type": "markdown",
   "id": "71616c80-1e80-46ae-a715-9f4fea4b510e",
   "metadata": {},
   "source": [
    "# Alquiler"
   ]
  },
  {
   "cell_type": "markdown",
   "id": "6cf0a7d7-4b21-4801-9341-e22994e30d4d",
   "metadata": {
    "tags": []
   },
   "source": [
    "## Fase 1"
   ]
  },
  {
   "cell_type": "markdown",
   "id": "fc66fb81-0299-4693-8304-c0263c5a7698",
   "metadata": {},
   "source": [
    "Voy a dejar un poco más limpio el dataframe. Eliminaré variables que no aportan mucho (porque ya tienen un one-hot encoding, por ejemplo) y luego limpiaré aquellas observaciones que tienen `n_baths`=0."
   ]
  },
  {
   "cell_type": "code",
   "execution_count": 2,
   "id": "89d2a0dc-1200-4542-a537-22e5a881dfd3",
   "metadata": {
    "tags": []
   },
   "outputs": [],
   "source": [
    "dfm=pd.read_excel('data/pre-procesado/a-prov_mad-marzo24.xlsx')\n",
    "dfb=pd.read_excel('data/pre-procesado/a-mun_bcn-marzo24.xlsx')\n",
    "dfr=pd.read_excel('data/pre-procesado/a-rmb-sin_bcn-marzo24.xlsx')"
   ]
  },
  {
   "cell_type": "markdown",
   "id": "b54cee01-e93a-455a-9c2e-7a2b7b610db6",
   "metadata": {},
   "source": [
    "Elimino `terrace_m2` porque no todos los pisos tienen información sobre su metraje. En cambio, sí sobre si tienen o no una terraza."
   ]
  },
  {
   "cell_type": "code",
   "execution_count": 3,
   "id": "b1393894-8a41-4c94-8cdd-0841f7f282a8",
   "metadata": {
    "tags": []
   },
   "outputs": [],
   "source": [
    "dfm=dfm.drop(['year_cons','floor','consum_EPC','emission_EPC','terrace_m2'],axis=1)\n",
    "dfb=dfb.drop(['year_cons','floor','consum_EPC','emission_EPC','terrace_m2'],axis=1)\n",
    "dfr=dfr.drop(['year_cons','floor','consum_EPC','emission_EPC','terrace_m2'],axis=1)"
   ]
  },
  {
   "cell_type": "code",
   "execution_count": 4,
   "id": "17076ba6-e9ff-4959-ac33-a474d3f17e23",
   "metadata": {
    "tags": []
   },
   "outputs": [
    {
     "name": "stdout",
     "output_type": "stream",
     "text": [
      "Longitud de datos de Madrid: 3645\n",
      "Longitud de datos de Barcelona municipio: 3415\n",
      "Longitud de datos de la RMB sin Barcelona municipio: 1646\n"
     ]
    }
   ],
   "source": [
    "dfm = dfm[dfm['n_baths'] != 0]\n",
    "dfb = dfb[dfb['n_baths'] != 0]\n",
    "dfr = dfr[dfr['n_baths'] != 0]\n",
    "print(\"Longitud de datos de Madrid:\", len(dfm))\n",
    "print(\"Longitud de datos de Barcelona municipio:\", len(dfb))\n",
    "print(\"Longitud de datos de la RMB sin Barcelona municipio:\", len(dfr))"
   ]
  },
  {
   "cell_type": "markdown",
   "id": "600edd6a-e74c-437f-a4ad-fb0d67554d63",
   "metadata": {},
   "source": [
    "Ahora elimino duplicados."
   ]
  },
  {
   "cell_type": "code",
   "execution_count": 5,
   "id": "7f803c4e-6118-441b-a548-da98c91634c3",
   "metadata": {
    "tags": []
   },
   "outputs": [
    {
     "name": "stdout",
     "output_type": "stream",
     "text": [
      "Longitud de dfm después de eliminar duplicados: 3645\n",
      "Longitud de dfb después de eliminar duplicados: 3415\n",
      "Longitud de dfr después de eliminar duplicados: 1595\n"
     ]
    }
   ],
   "source": [
    "# Lista de columnas a mantener en cada DataFrame\n",
    "columns_to_keep = ['codigo_inmueble', 'Lon_X', 'Lat_Y']\n",
    "\n",
    "# Para dfm\n",
    "columns_to_check_duplication_dfm = [col for col in dfm.columns if col not in columns_to_keep]\n",
    "dfm.drop_duplicates(subset=columns_to_check_duplication_dfm, keep='first', inplace=True)\n",
    "\n",
    "# Para dfb\n",
    "columns_to_check_duplication_dfb = [col for col in dfb.columns if col not in columns_to_keep]\n",
    "dfb.drop_duplicates(subset=columns_to_check_duplication_dfb, keep='first', inplace=True)\n",
    "\n",
    "# Para dfr\n",
    "columns_to_check_duplication_dfr = [col for col in dfr.columns if col not in columns_to_keep]\n",
    "dfr.drop_duplicates(subset=columns_to_check_duplication_dfr, keep='first', inplace=True)\n",
    "\n",
    "# Verificar la longitud de los DataFrames resultantes\n",
    "print(\"Longitud de dfm después de eliminar duplicados:\", len(dfm))\n",
    "print(\"Longitud de dfb después de eliminar duplicados:\", len(dfb))\n",
    "print(\"Longitud de dfr después de eliminar duplicados:\", len(dfr))"
   ]
  },
  {
   "cell_type": "markdown",
   "id": "9a16efac-f554-4356-9a4f-cfab7ba1b130",
   "metadata": {},
   "source": [
    "## Multifamiliares"
   ]
  },
  {
   "cell_type": "code",
   "execution_count": 6,
   "id": "53d1f9a5-225c-4250-b9ab-cbfabe0d9b73",
   "metadata": {
    "tags": []
   },
   "outputs": [
    {
     "name": "stdout",
     "output_type": "stream",
     "text": [
      "Longitud de dfm multifam: 2841\n",
      "Longitud de dfb multifam: 2965\n",
      "Longitud de dfr multifam: 976\n"
     ]
    }
   ],
   "source": [
    "dfm = dfm[dfm['multifam'] == 1]\n",
    "dfb = dfb[dfb['multifam'] == 1]\n",
    "dfr = dfr[dfr['multifam'] == 1]\n",
    "print(\"Longitud de dfm multifam:\", len(dfm))\n",
    "print(\"Longitud de dfb multifam:\", len(dfb))\n",
    "print(\"Longitud de dfr multifam:\", len(dfr))"
   ]
  },
  {
   "cell_type": "markdown",
   "id": "ec0657b5-cc5c-41ef-99f9-dcba865ac2a1",
   "metadata": {},
   "source": [
    "## Etiquetas EPC"
   ]
  },
  {
   "cell_type": "markdown",
   "id": "f95b31f6-dcf9-4f82-a6ed-2e8363d20d5e",
   "metadata": {},
   "source": [
    "Reviso cuántos pisos tienen información de etiquetas EPC."
   ]
  },
  {
   "cell_type": "code",
   "execution_count": 7,
   "id": "2d2fea1d-2004-4a2d-89ee-29cd3d7d7638",
   "metadata": {
    "tags": []
   },
   "outputs": [
    {
     "name": "stdout",
     "output_type": "stream",
     "text": [
      "  DataFrame  Total datos  consum_EPC  emission_EPC      Ambas\n",
      "0       dfm         2841   97.008096     97.008096  97.008096\n",
      "1       dfb         2965   97.740304     97.740304  97.740304\n",
      "2       dfr          976   98.360656     98.360656  98.360656\n"
     ]
    }
   ],
   "source": [
    "# Contar cuántas filas tienen valor 1 en la columna 'dummy_consum_EPC' de cada DataFrame\n",
    "filas_con_1_consum_EPC_dfm = (dfm['dummy_consum_EPC'] == 1).sum()/len(dfm)*100\n",
    "filas_con_1_consum_EPC_dfb = (dfb['dummy_consum_EPC'] == 1).sum()/len(dfb)*100\n",
    "filas_con_1_consum_EPC_dfr = (dfr['dummy_consum_EPC'] == 1).sum()/len(dfr)*100\n",
    "\n",
    "# Contar cuántas filas tienen valor 1 en la columna 'dummy_emission_EPC' de cada DataFrame\n",
    "filas_con_1_emission_EPC_dfm = (dfm['dummy_emission_EPC'] == 1).sum()/len(dfm)*100\n",
    "filas_con_1_emission_EPC_dfb = (dfb['dummy_emission_EPC'] == 1).sum()/len(dfb)*100\n",
    "filas_con_1_emission_EPC_dfr = (dfr['dummy_emission_EPC'] == 1).sum()/len(dfr)*100\n",
    "\n",
    "# Contar cuántas filas tienen valor 1 en ambas columnas 'dummy_consum_EPC' y 'dummy_emission_EPC' de cada DataFrame\n",
    "filas_con_1_en_ambas_dfm = ((dfm['dummy_consum_EPC'] == 1) & (dfm['dummy_emission_EPC'] == 1)).sum()/len(dfm)*100\n",
    "filas_con_1_en_ambas_dfb = ((dfb['dummy_consum_EPC'] == 1) & (dfb['dummy_emission_EPC'] == 1)).sum()/len(dfb)*100\n",
    "filas_con_1_en_ambas_dfr = ((dfr['dummy_consum_EPC'] == 1) & (dfr['dummy_emission_EPC'] == 1)).sum()/len(dfr)*100\n",
    "\n",
    "# Crear una tabla para mostrar el conteo por cada DataFrame\n",
    "conteo_por_df = pd.DataFrame({\n",
    "    'DataFrame': ['dfm', 'dfb', 'dfr'],\n",
    "    'Total datos':[len(dfm),len(dfb),len(dfr)],\n",
    "    'consum_EPC': [filas_con_1_consum_EPC_dfm, filas_con_1_consum_EPC_dfb, filas_con_1_consum_EPC_dfr],\n",
    "    'emission_EPC': [filas_con_1_emission_EPC_dfm, filas_con_1_emission_EPC_dfb, filas_con_1_emission_EPC_dfr],\n",
    "    'Ambas': [filas_con_1_en_ambas_dfm, filas_con_1_en_ambas_dfb, filas_con_1_en_ambas_dfr]\n",
    "})\n",
    "\n",
    "# Mostrar la tabla\n",
    "print(conteo_por_df)"
   ]
  },
  {
   "cell_type": "markdown",
   "id": "77919fb7-73ed-4c69-aca3-edfdf3aad1a3",
   "metadata": {},
   "source": [
    "De los que tienen información, cuántos tienen valores inválidos (999, 0 o vacíos)."
   ]
  },
  {
   "cell_type": "code",
   "execution_count": 8,
   "id": "19d7a619-21f1-451c-b30d-1486ade3740f",
   "metadata": {
    "tags": []
   },
   "outputs": [
    {
     "name": "stdout",
     "output_type": "stream",
     "text": [
      "  DataFrame  999 consum  999 emission\n",
      "0       dfm    2.604717           0.0\n",
      "1       dfb    1.787521           0.0\n",
      "2       dfr    0.819672           0.0\n"
     ]
    }
   ],
   "source": [
    "# Calcular el porcentaje de filas donde 'kwhm2_year' tiene valor 999, 0 o está vacía respecto a 'dummy_consum_EPC' con valor 1 para cada DataFrame\n",
    "porcentaje_kwhm2_999_consum_dfm = ((dfm['dummy_consum_EPC'] == 1) & (dfm['kwhm2_year'].isin([999, 0, '']))).mean() * 100\n",
    "porcentaje_kwhm2_999_consum_dfb = ((dfb['dummy_consum_EPC'] == 1) & (dfb['kwhm2_year'].isin([999, 0, '']))).mean() * 100\n",
    "porcentaje_kwhm2_999_consum_dfr = ((dfr['dummy_consum_EPC'] == 1) & (dfr['kwhm2_year'].isin([999, 0, '']))).mean() * 100\n",
    "\n",
    "# Calcular el porcentaje de filas donde 'kgCO2m2_year' tiene valor 999, 0 o está vacía respecto a 'dummy_emission_EPC' con valor 1 para cada DataFrame\n",
    "porcentaje_kgCO2m2_999_emission_dfm = ((dfm['dummy_emission_EPC'] == 1) & (dfm['kgCO2m2_year'].isin([999, 0, '']))).mean() * 100\n",
    "porcentaje_kgCO2m2_999_emission_dfb = ((dfb['dummy_emission_EPC'] == 1) & (dfb['kgCO2m2_year'].isin([999, 0, '']))).mean() * 100\n",
    "porcentaje_kgCO2m2_999_emission_dfr = ((dfr['dummy_emission_EPC'] == 1) & (dfr['kgCO2m2_year'].isin([999, 0, '']))).mean() * 100\n",
    "\n",
    "# Crear una tabla para mostrar los porcentajes por cada DataFrame\n",
    "porcentaje_por_df = pd.DataFrame({\n",
    "    'DataFrame': ['dfm', 'dfb', 'dfr'],\n",
    "    \"999 consum\": [porcentaje_kwhm2_999_consum_dfm, porcentaje_kwhm2_999_consum_dfb, porcentaje_kwhm2_999_consum_dfr],\n",
    "    \"999 emission\": [porcentaje_kgCO2m2_999_emission_dfm, porcentaje_kgCO2m2_999_emission_dfb, porcentaje_kgCO2m2_999_emission_dfr]\n",
    "})\n",
    "\n",
    "# Mostrar la tabla\n",
    "print(porcentaje_por_df)"
   ]
  },
  {
   "cell_type": "markdown",
   "id": "103891e8-84e8-4e63-837f-8e55274d1e47",
   "metadata": {},
   "source": [
    "En general, es muy bajo el porcentaje. Vamos a eliminar esas observaciones."
   ]
  },
  {
   "cell_type": "code",
   "execution_count": 9,
   "id": "b69c6cb9-ae52-46f8-b92d-510aec5eaa56",
   "metadata": {
    "tags": []
   },
   "outputs": [
    {
     "name": "stdout",
     "output_type": "stream",
     "text": [
      "Longitud de dfm después de eliminar filas: 2682\n",
      "Longitud de dfb después de eliminar filas: 2845\n",
      "Longitud de dfr después de eliminar filas: 952\n"
     ]
    }
   ],
   "source": [
    "# Eliminar filas con valor 0 en 'dummy_consum_EPC' y/o 'dummy_emission_EPC'\n",
    "dfm = dfm[~((dfm['dummy_consum_EPC'] == 0) | (dfm['dummy_emission_EPC'] == 0))]\n",
    "dfb = dfb[~((dfb['dummy_consum_EPC'] == 0) | (dfb['dummy_emission_EPC'] == 0))]\n",
    "dfr = dfr[~((dfr['dummy_consum_EPC'] == 0) | (dfr['dummy_emission_EPC'] == 0))]\n",
    "\n",
    "# Eliminar filas con valores 999, 0 o vacíos en 'kgCO2m2_year' y/o 'kwhm2_year'\n",
    "dfm = dfm[~((dfm['kwhm2_year'].isin([999, 0, ''])) | (dfm['kgCO2m2_year'].isin([999, 0, ''])))]\n",
    "dfb = dfb[~((dfb['kwhm2_year'].isin([999, 0, ''])) | (dfb['kgCO2m2_year'].isin([999, 0, ''])))]\n",
    "dfr = dfr[~((dfr['kwhm2_year'].isin([999, 0, ''])) | (dfr['kgCO2m2_year'].isin([999, 0, ''])))]\n",
    "\n",
    "# Mostrar la longitud de cada DataFrame después de eliminar las filas\n",
    "print(\"Longitud de dfm después de eliminar filas:\", len(dfm))\n",
    "print(\"Longitud de dfb después de eliminar filas:\", len(dfb))\n",
    "print(\"Longitud de dfr después de eliminar filas:\", len(dfr))"
   ]
  },
  {
   "cell_type": "code",
   "execution_count": 10,
   "id": "909c0edd-dcf5-4548-8763-1c80adf958bc",
   "metadata": {
    "tags": []
   },
   "outputs": [],
   "source": [
    "dfm.to_excel('data/a-prov_mad-marzo24.xlsx', index=False)\n",
    "#Estos necesitarán un paso más, por eso los mantengo en pre-procesado\n",
    "dfb.to_excel('data/pre-procesado/a-mun_bcn-marzo24-1.xlsx', index=False)\n",
    "dfr.to_excel('data/pre-procesado/a-rmb-sin_bcn-marzo24-1.xlsx', index=False)"
   ]
  }
 ],
 "metadata": {
  "kernelspec": {
   "display_name": "Python 3 (ipykernel)",
   "language": "python",
   "name": "python3"
  },
  "language_info": {
   "codemirror_mode": {
    "name": "ipython",
    "version": 3
   },
   "file_extension": ".py",
   "mimetype": "text/x-python",
   "name": "python",
   "nbconvert_exporter": "python",
   "pygments_lexer": "ipython3",
   "version": "3.11.5"
  }
 },
 "nbformat": 4,
 "nbformat_minor": 5
}
