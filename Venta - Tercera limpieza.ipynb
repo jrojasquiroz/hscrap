{
 "cells": [
  {
   "cell_type": "markdown",
   "id": "283118f4-3286-4afb-ab00-2f0a2c14be50",
   "metadata": {},
   "source": [
    "Con la base de datos de toda la RMB voy a obtener dos nuevas: \n",
    "1. Sólo para el AMB. \n",
    "2. Sólo para el municipio de Barcelona."
   ]
  },
  {
   "cell_type": "code",
   "execution_count": 1,
   "id": "ddd97d43-0891-4a92-9d2c-a1a361aaa24e",
   "metadata": {
    "tags": []
   },
   "outputs": [],
   "source": [
    "import geopandas as gpd\n",
    "from shapely.geometry import Point\n",
    "import matplotlib.pyplot as plt\n",
    "import pandas as pd"
   ]
  },
  {
   "cell_type": "markdown",
   "id": "cc3d0cbc-e8f1-418f-ac4e-b93e73783fbe",
   "metadata": {},
   "source": [
    "# Importo los archivos espaciales"
   ]
  },
  {
   "cell_type": "code",
   "execution_count": 2,
   "id": "b7b00014-2fc0-4f1e-ba55-2558271d86dd",
   "metadata": {},
   "outputs": [],
   "source": [
    "#AMB\n",
    "gdf_amb = gpd.read_file('G:/Mi unidad/Datos/españa/vectores/MUNICIPIOS-AMB-31N.gpkg')\n",
    "gdf_amb = gdf_amb.to_crs(epsg=32631) #porque estaba mal seteado"
   ]
  },
  {
   "cell_type": "code",
   "execution_count": 3,
   "id": "56f5f03f-8b13-4028-814c-303076f5df83",
   "metadata": {},
   "outputs": [],
   "source": [
    "#BCN\n",
    "gdf_bcn = gpd.read_file('G:/Mi unidad/Datos/españa/vectores/MUNICIPOS-ESPAÑA-31N.gpkg')\n",
    "gdf_bcn = gdf_bcn[gdf_bcn['NAMEUNIT'] == 'Barcelona']\n",
    "\n",
    "gdf_bcn = gdf_bcn.to_crs(epsg=32631) #por si las dudas"
   ]
  },
  {
   "cell_type": "markdown",
   "id": "41ece111-66ba-4a48-b7bf-379fc2c085ca",
   "metadata": {},
   "source": [
    "# Importo el Excel y lo espacializo"
   ]
  },
  {
   "cell_type": "code",
   "execution_count": 4,
   "id": "2adf34e6-1492-4610-b613-c872eb755af9",
   "metadata": {},
   "outputs": [],
   "source": [
    "df=pd.read_excel('data/primera_ronda/v-rmb-abril24.xlsx')\n",
    "df=df.drop(columns=['ID'])\n",
    "\n",
    "# Convertir el DataFrame a un GeoDataFrame\n",
    "geometry = [Point(lon, lat) for lon, lat in zip(df['Lon_X'], df['Lat_Y'])]\n",
    "crs = 'epsg:4326'  # Definir sistema de coordenadas WGS84\n",
    "gdf_puntos = gpd.GeoDataFrame(df, crs=crs, geometry=geometry)\n",
    "\n",
    "# Convertir el GeoDataFrame a EPSG:32631\n",
    "gdf_puntos = gdf_puntos.to_crs(epsg=32631)"
   ]
  },
  {
   "cell_type": "markdown",
   "id": "b2f053b3-30ff-4b34-b34a-b9f83f89187e",
   "metadata": {},
   "source": [
    "# Hago el spatial join"
   ]
  },
  {
   "cell_type": "code",
   "execution_count": 5,
   "id": "01e9c1c8-626f-4c2b-ae0c-0b8e36bdb1a1",
   "metadata": {},
   "outputs": [],
   "source": [
    "# Realizar una unión espacial entre los dos GeoDataFrames\n",
    "bcn = gpd.sjoin(gdf_puntos, gdf_bcn[['geometry']], how='inner', predicate='intersects')"
   ]
  },
  {
   "cell_type": "code",
   "execution_count": 6,
   "id": "ab864bce-641e-4018-95a8-dcd08a1d002a",
   "metadata": {},
   "outputs": [],
   "source": [
    "# Realizar una unión espacial entre los dos GeoDataFrames\n",
    "amb = gpd.sjoin(gdf_puntos, gdf_amb[['geometry']], how='inner', predicate='intersects')"
   ]
  },
  {
   "cell_type": "markdown",
   "id": "dfde8cee-8327-489c-ab0f-122052c28f63",
   "metadata": {},
   "source": [
    "# Exporto"
   ]
  },
  {
   "cell_type": "code",
   "execution_count": 7,
   "id": "29a9fd97-10a9-4f20-974f-8dc4891ca82e",
   "metadata": {},
   "outputs": [],
   "source": [
    "#Creo un ID\n",
    "bcn.reset_index(drop=True, inplace=True)\n",
    "bcn.index = bcn.index + 1\n",
    "bcn.insert(0, 'ID', bcn.index)\n",
    "\n",
    "#Exporto\n",
    "bcn.drop(['geometry','index_right'],axis=1).to_excel('data/primera_ronda/v-mun_bcn-abril24.xlsx',index=False)"
   ]
  },
  {
   "cell_type": "code",
   "execution_count": 8,
   "id": "cf73cce4-b394-4f8d-95c4-e200522b4981",
   "metadata": {
    "tags": []
   },
   "outputs": [],
   "source": [
    "#Creo un ID\n",
    "amb.reset_index(drop=True, inplace=True)\n",
    "amb.index = amb.index + 1\n",
    "amb.insert(0, 'ID', amb.index)\n",
    "\n",
    "#Exporto\n",
    "amb.drop(['geometry','index_right'],axis=1).to_excel('data/primera_ronda/v-amb-abril24.xlsx',index=False)"
   ]
  },
  {
   "cell_type": "code",
   "execution_count": 9,
   "id": "18bfb5fa-8df9-4e45-b36a-599c4b8bb3b5",
   "metadata": {
    "tags": []
   },
   "outputs": [
    {
     "name": "stdout",
     "output_type": "stream",
     "text": [
      "Longitud de datos para BCN: 7177\n",
      "Longitud de datos para el AMB: 14062\n",
      "Longitud de datos para la RMB: 24700\n"
     ]
    }
   ],
   "source": [
    "print(\"Longitud de datos para BCN:\", len(bcn))\n",
    "print(\"Longitud de datos para el AMB:\", len(amb))\n",
    "print(\"Longitud de datos para la RMB:\", len(df))"
   ]
  }
 ],
 "metadata": {
  "kernelspec": {
   "display_name": "Python 3 (ipykernel)",
   "language": "python",
   "name": "python3"
  },
  "language_info": {
   "codemirror_mode": {
    "name": "ipython",
    "version": 3
   },
   "file_extension": ".py",
   "mimetype": "text/x-python",
   "name": "python",
   "nbconvert_exporter": "python",
   "pygments_lexer": "ipython3",
   "version": "3.11.5"
  }
 },
 "nbformat": 4,
 "nbformat_minor": 5
}
