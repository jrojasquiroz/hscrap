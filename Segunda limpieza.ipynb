{
 "cells": [
  {
   "cell_type": "markdown",
   "id": "fc66fb81-0299-4693-8304-c0263c5a7698",
   "metadata": {},
   "source": [
    "Voy a dejar un poco más limpio el dataframe. Eliminaré variables que no aportan mucho (porque ya tienen un one-hot encoding, por ejemplo) y luego limpiaré aquellas observaciones que tienen `n_baths`=0."
   ]
  },
  {
   "cell_type": "code",
   "execution_count": 1,
   "id": "96a2597a-467a-4a03-aff5-243d2ceb3103",
   "metadata": {
    "tags": []
   },
   "outputs": [],
   "source": [
    "import pandas as pd"
   ]
  },
  {
   "cell_type": "code",
   "execution_count": 2,
   "id": "89d2a0dc-1200-4542-a537-22e5a881dfd3",
   "metadata": {
    "tags": []
   },
   "outputs": [],
   "source": [
    "df=pd.read_excel('data/rmbsinbcn_marzo2024.xlsx')"
   ]
  },
  {
   "cell_type": "markdown",
   "id": "b54cee01-e93a-455a-9c2e-7a2b7b610db6",
   "metadata": {},
   "source": [
    "Elimino `terrace_m2` porque no todos los pisos tienen información sobre su metraje. En cambio, sí sobre si tienen o no una terraza."
   ]
  },
  {
   "cell_type": "code",
   "execution_count": 3,
   "id": "b1393894-8a41-4c94-8cdd-0841f7f282a8",
   "metadata": {
    "tags": []
   },
   "outputs": [],
   "source": [
    "df=df.drop(['year_cons','floor','consum_EPC',\n",
    "            'kwhm2_year','emission_EPC','kgCO2m2_year',\n",
    "            'terrace_m2'],\n",
    "            axis=1)"
   ]
  },
  {
   "cell_type": "code",
   "execution_count": 4,
   "id": "17076ba6-e9ff-4959-ac33-a474d3f17e23",
   "metadata": {
    "tags": []
   },
   "outputs": [
    {
     "data": {
      "text/plain": [
       "1646"
      ]
     },
     "execution_count": 4,
     "metadata": {},
     "output_type": "execute_result"
    }
   ],
   "source": [
    "df = df[df['n_baths'] != 0]\n",
    "len(df)"
   ]
  },
  {
   "cell_type": "markdown",
   "id": "600edd6a-e74c-437f-a4ad-fb0d67554d63",
   "metadata": {},
   "source": [
    "Ahora elimino duplicados."
   ]
  },
  {
   "cell_type": "code",
   "execution_count": 5,
   "id": "7f803c4e-6118-441b-a548-da98c91634c3",
   "metadata": {},
   "outputs": [
    {
     "data": {
      "text/plain": [
       "1595"
      ]
     },
     "execution_count": 5,
     "metadata": {},
     "output_type": "execute_result"
    }
   ],
   "source": [
    "columns_to_keep = ['codigo_inmueble', 'Lon_X', 'Lat_Y']\n",
    "\n",
    "# Crear una lista de columnas excluyendo las columnas que deseas mantener\n",
    "columns_to_check_duplication = [col for col in df.columns if col not in columns_to_keep]\n",
    "\n",
    "# Si quieres modificar directamente el DataFrame original, puedes hacer:\n",
    "df.drop_duplicates(subset=columns_to_check_duplication, keep='first', inplace=True)\n",
    "\n",
    "# Verificar el DataFrame resultante\n",
    "len(df)"
   ]
  },
  {
   "cell_type": "code",
   "execution_count": 6,
   "id": "909c0edd-dcf5-4548-8763-1c80adf958bc",
   "metadata": {
    "tags": []
   },
   "outputs": [],
   "source": [
    "df.to_excel('data/filtrado/rmbsinbcn_marzo2024-f1.xlsx', index=False)"
   ]
  }
 ],
 "metadata": {
  "kernelspec": {
   "display_name": "Python 3 (ipykernel)",
   "language": "python",
   "name": "python3"
  },
  "language_info": {
   "codemirror_mode": {
    "name": "ipython",
    "version": 3
   },
   "file_extension": ".py",
   "mimetype": "text/x-python",
   "name": "python",
   "nbconvert_exporter": "python",
   "pygments_lexer": "ipython3",
   "version": "3.11.5"
  }
 },
 "nbformat": 4,
 "nbformat_minor": 5
}
