{
 "cells": [
  {
   "cell_type": "code",
   "execution_count": 1,
   "id": "9bb93920-43f3-4214-96e8-f5b8790c86b2",
   "metadata": {
    "tags": []
   },
   "outputs": [],
   "source": [
    "import pandas as pd\n",
    "import numpy as np\n",
    "import re #para identificar patrones en textos\n",
    "from langdetect import detect #para detectar idiomas, se tiene que instalar\n",
    "from deep_translator import GoogleTranslator #para traducir texto, se tiene que instalar\n",
    "import unicodedata #para quitar tildes y reconocer habitación/habitaciones"
   ]
  },
  {
   "cell_type": "code",
   "execution_count": 2,
   "id": "a531c087-37fa-4328-9b5b-faec0d624bcf",
   "metadata": {
    "tags": []
   },
   "outputs": [],
   "source": [
    "df1=pd.read_excel('rawdata/v-barcelones-p1.xlsx')\n",
    "df2=pd.read_excel('rawdata/v-barcelones-p2.xlsx')\n",
    "df3=pd.read_excel('rawdata/v-barcelones-p3.xlsx')\n",
    "\n",
    "df=pd.concat([df1, df2, df3], ignore_index=True)"
   ]
  },
  {
   "cell_type": "markdown",
   "id": "d363d922-7a31-4bf6-8206-6b25d08b457e",
   "metadata": {},
   "source": [
    "En caso quiera compartir la estructura de `df`."
   ]
  },
  {
   "cell_type": "code",
   "execution_count": 3,
   "id": "b9adb045-c1c0-45ec-bf9d-571e80ce792e",
   "metadata": {},
   "outputs": [],
   "source": [
    "#df.head().to_dict(orient='records')"
   ]
  },
  {
   "cell_type": "markdown",
   "id": "c426ac80-241b-4110-a021-1cc6df99e0c1",
   "metadata": {
    "tags": []
   },
   "source": [
    "# Last modification"
   ]
  },
  {
   "cell_type": "code",
   "execution_count": 4,
   "id": "89215d38-a91c-41ec-b535-319ec76e3ad5",
   "metadata": {
    "tags": []
   },
   "outputs": [],
   "source": [
    "# Aplicar la función a la columna solo si el valor es una cadena de texto\n",
    "df['last_mod'] = df['Last Modification'].apply(lambda x: x.replace('última modificación ', '') if isinstance(x, str) else x)\n",
    "\n",
    "# Eliminar la columna original\n",
    "df = df.drop('Last Modification', axis=1)"
   ]
  },
  {
   "cell_type": "markdown",
   "id": "f769381d-5625-4ecf-9f31-37b7c12672f8",
   "metadata": {
    "tags": []
   },
   "source": [
    "# Distribution"
   ]
  },
  {
   "cell_type": "markdown",
   "id": "bcfeac27-a19c-4b8b-a557-87ac249f2b69",
   "metadata": {},
   "source": [
    "Obtengo `indice_alquiler`. Son muy pocos los pisos que tienen esta información."
   ]
  },
  {
   "cell_type": "code",
   "execution_count": 5,
   "id": "0afec527-6a45-4db6-a8d7-b4d84970aa99",
   "metadata": {
    "tags": []
   },
   "outputs": [],
   "source": [
    "# Función para asignar valores a la nueva columna 'dummy_indice'\n",
    "def asignar_valor(texto):\n",
    "    if isinstance(texto, str):  # Verificar si el valor es una cadena de texto\n",
    "        if re.search(r'Índice Alquiler:\\s*(\\d+|\\D)', texto):\n",
    "            match = re.search(r'Índice Alquiler:\\s*(\\d+|\\D)', texto)\n",
    "            if match.group(1).isdigit():\n",
    "                return 1\n",
    "            else:\n",
    "                return 0\n",
    "        else:\n",
    "            return 0\n",
    "    else:\n",
    "        return 0\n",
    "\n",
    "# Aplicar la función a la columna 'Distribution' y crear la nueva columna 'dummy_indice'\n",
    "df['dummy_indice'] = df['Distribution'].apply(asignar_valor)"
   ]
  },
  {
   "cell_type": "code",
   "execution_count": 6,
   "id": "1230d435-18aa-40db-a9f0-55e9c30cecd8",
   "metadata": {
    "tags": []
   },
   "outputs": [],
   "source": [
    "# Función para obtener el valor numérico decimal después de \"Índice Alquiler\"\n",
    "def obtener_valor(texto):\n",
    "    if isinstance(texto, str):  # Verificar si el valor es una cadena de texto\n",
    "        match = re.search(r'Índice Alquiler:\\s*([\\d,]+)', texto)\n",
    "        if match:\n",
    "            valor = match.group(1).replace(',', '.')  # Reemplazar la coma por un punto para obtener un decimal válido\n",
    "            return float(valor)\n",
    "        else:\n",
    "            return 0.0\n",
    "    else:\n",
    "        return 0.0\n",
    "\n",
    "# Aplicar la función para crear la nueva columna 'indice_alquiler'\n",
    "df['indice_alquiler'] = df['Distribution'].apply(obtener_valor)"
   ]
  },
  {
   "cell_type": "markdown",
   "id": "e13103a6-d9bf-43f1-8b0c-08bb40ae731e",
   "metadata": {},
   "source": [
    "# Price other y General Characteristics"
   ]
  },
  {
   "cell_type": "markdown",
   "id": "56436772-3b59-42ef-9b13-dcc04e79ad89",
   "metadata": {
    "tags": []
   },
   "source": [
    "## `area`, `n_rooms` y `price_m2`"
   ]
  },
  {
   "cell_type": "code",
   "execution_count": 7,
   "id": "7330f0f4-875c-4ada-972b-3519bf1bc246",
   "metadata": {
    "tags": []
   },
   "outputs": [],
   "source": [
    "# Función para extraer la información del precio y otras características\n",
    "def extraer_info(texto):\n",
    "    area_match = re.search(r'(\\d+)m2', texto)\n",
    "    area = int(area_match.group(1)) if area_match else 0\n",
    "    rooms_match = re.search(r'(\\d+) habitaciones', texto)\n",
    "    n_rooms = int(rooms_match.group(1)) if rooms_match else 0\n",
    "    price_m2_match = re.search(r'(\\d+,\\d+)€/m2', texto)\n",
    "    price_m2 = float(price_m2_match.group(1).replace(',', '.')) if price_m2_match else 0\n",
    "    return pd.Series([area, n_rooms, price_m2])\n",
    "\n",
    "# Aplicar la función y crear las nuevas columnas\n",
    "df[['area', 'n_rooms', 'price_m2']] = df['Price_other'].apply(extraer_info)"
   ]
  },
  {
   "cell_type": "code",
   "execution_count": 8,
   "id": "72e06448-9a63-48b1-ad2a-ad8e860f8392",
   "metadata": {
    "tags": []
   },
   "outputs": [],
   "source": [
    "def extraer_info_description(texto):\n",
    "    rooms_match = re.search(r'(\\d+)\\s*(?:habitacion(?:es)?)\\b', str(texto))\n",
    "    n_rooms = int(rooms_match.group(1)) if rooms_match else 0\n",
    "    return n_rooms\n",
    "\n",
    "# Aplicar la función extraer_info_description a la columna 'Description' cuando 'n_rooms' sea cero\n",
    "df['n_rooms'] = df.apply(lambda row: extraer_info_description(row['Description']) if row['n_rooms'] == 0 else row['n_rooms'], axis=1)"
   ]
  },
  {
   "cell_type": "code",
   "execution_count": 9,
   "id": "ae88fc3e-28b5-4f16-a460-2fec40613a3d",
   "metadata": {
    "tags": []
   },
   "outputs": [],
   "source": [
    "def extraer_info_description(texto):\n",
    "    # Buscar números, palabras numéricas o \"una\" seguidos de \"habitación\", \"habitaciones\" o \"habitación\" en la descripción\n",
    "    rooms_match = re.search(r'(?:\\b(una|uno|dos|tres|cuatro|cinco|seis|siete|ocho|nueve|diez|once|doce|trece|catorce|quince|dieciséis|diecisiete|dieciocho|diecinueve|veinte)\\b|\\d+)\\s*habitacion(?:es)?\\b', str(texto))\n",
    "    # Convertir palabras numéricas a números\n",
    "    if rooms_match and rooms_match.group(1):\n",
    "        num_word = rooms_match.group(1)\n",
    "        num_dict = {'una': 1, 'uno': 1, 'dos': 2, 'tres': 3, 'cuatro': 4, 'cinco': 5, 'seis': 6, 'siete': 7, 'ocho': 8, 'nueve': 9, 'diez': 10,\n",
    "                    'once': 11, 'doce': 12, 'trece': 13, 'catorce': 14, 'quince': 15, 'dieciséis': 16, 'diecisiete': 17, 'dieciocho': 18,\n",
    "                    'diecinueve': 19, 'veinte': 20}\n",
    "        n_rooms = num_dict[num_word]\n",
    "    else:\n",
    "        # Extraer solo el número encontrado\n",
    "        n_rooms = int(re.search(r'\\d+', rooms_match.group(0)).group()) if rooms_match else 0\n",
    "    return n_rooms\n",
    "\n",
    "# Aplicar la función extraer_info_description a la columna 'Description' cuando 'n_rooms' sea cero\n",
    "df['n_rooms'] = df.apply(lambda row: extraer_info_description(row['Description']) if row['n_rooms'] == 0 else row['n_rooms'], axis=1)"
   ]
  },
  {
   "cell_type": "code",
   "execution_count": 10,
   "id": "de381257-64c8-4d11-a307-50e576804391",
   "metadata": {},
   "outputs": [],
   "source": [
    "def extraer_info_description2(texto):\n",
    "    # Buscar \"una habitación\" en la descripción\n",
    "    rooms_match = re.search(r'\\buna\\s*habitación\\b', str(texto))\n",
    "\n",
    "    # Si se encuentra la frase \"una habitación\", establecer n_rooms en 1, de lo contrario, en 0\n",
    "    n_rooms = 1 if rooms_match else 0\n",
    "    \n",
    "    return n_rooms\n",
    "\n",
    "# Aplicar la función extraer_info_description a la columna 'Description' cuando 'n_rooms' sea cero\n",
    "df['n_rooms'] = df.apply(lambda row: extraer_info_description2(row['Description']) if row['n_rooms'] == 0 else row['n_rooms'], axis=1)"
   ]
  },
  {
   "cell_type": "markdown",
   "id": "048a7d2d-a5f3-488e-b193-e1d00aacbb36",
   "metadata": {
    "tags": []
   },
   "source": [
    "## `n_baths`, `terrace`, `n_aseo`, `laundry`, `buhardilla`, `despacho`, `trastero`"
   ]
  },
  {
   "cell_type": "code",
   "execution_count": 11,
   "id": "d3bcb8b6-625f-4a65-85be-f1b17398cd82",
   "metadata": {},
   "outputs": [],
   "source": [
    "# Define expresiones regulares para extraer la información\n",
    "patron_banos = r'(\\d+) Baño'\n",
    "\n",
    "# Función para extraer el número de baños\n",
    "def extraer_banos(texto):\n",
    "    if isinstance(texto, str):  # Verificar si el valor es una cadena de texto\n",
    "        resultado = re.search(patron_banos, texto)\n",
    "        if resultado:\n",
    "            return int(resultado.group(1))\n",
    "        else:\n",
    "            return None\n",
    "    else:\n",
    "        return None\n",
    "\n",
    "# Función para extraer la información de las características generales\n",
    "def extraer_caracteristicas_generales(texto):\n",
    "    if isinstance(texto, str):  # Verificar si el valor es una cadena de texto\n",
    "        terrace_match = re.search(r'Terraza (\\d+)', texto)\n",
    "        terrace_m2 = int(terrace_match.group(1)) if terrace_match else 0   \n",
    "\n",
    "        aseo_match = re.search(r'(\\d+) (Aseo|Aseos)', texto)\n",
    "        n_aseo = int(aseo_match.group(1)) if aseo_match else 0\n",
    "\n",
    "        laundry = 1 if re.search(r'Lavadero', texto) else 0\n",
    "        buhardilla = 1 if re.search(r'Buhardilla', texto) else 0\n",
    "        despacho = 1 if re.search(r'Despacho', texto) else 0\n",
    "        trastero = 1 if re.search(r'Trastero', texto) else 0\n",
    "\n",
    "        return pd.Series([terrace_m2, n_aseo, laundry, buhardilla, despacho, trastero])\n",
    "    else:\n",
    "        return pd.Series([0, 0, 0, 0, 0, 0])  # Devuelve una serie con valores por defecto si el valor no es una cadena de texto\n",
    "\n",
    "# Aplicar las funciones y crear las nuevas columnas\n",
    "df['n_baths'] = df['General Characteristics'].apply(extraer_banos)\n",
    "# Filtrar filas donde no se encontraron baños en \"General Characteristics\"\n",
    "filas_sin_banos = df['n_baths'].isna()\n",
    "df.loc[filas_sin_banos, 'n_baths'] = df.loc[filas_sin_banos, 'Price_other'].apply(extraer_banos)\n",
    "\n",
    "# Aplicar la función y crear las nuevas columnas\n",
    "df[['terrace_m2', 'n_aseo', 'laundry','buhardilla','despacho','trastero']] = df['General Characteristics'].apply(extraer_caracteristicas_generales)"
   ]
  },
  {
   "cell_type": "markdown",
   "id": "a8beb4e1-7dc6-45b0-8cf6-cb658d10f338",
   "metadata": {},
   "source": [
    "### Mejora de `n_baths`"
   ]
  },
  {
   "cell_type": "markdown",
   "id": "26eee3d9-0341-48f5-b7e9-00d3a3eff2b1",
   "metadata": {},
   "source": [
    "Buscamos referencia a la cantidad de baños en la descripción."
   ]
  },
  {
   "cell_type": "code",
   "execution_count": 12,
   "id": "cefafc0f-cc59-4d04-a29c-aa6692ddec12",
   "metadata": {
    "tags": []
   },
   "outputs": [],
   "source": [
    "# Define la función extraer_info_description primero\n",
    "\n",
    "def extraer_info_description(texto):\n",
    "    bath_match = re.search(r'\\b(\\d+|[a-zA-Z]+)\\s*(baño|baños)\\b', str(texto), re.IGNORECASE)\n",
    "    if bath_match:\n",
    "        num_baths = bath_match.group(1)\n",
    "        if num_baths.isdigit():\n",
    "            n_baths = int(num_baths)\n",
    "        else:\n",
    "            num_dict = {'uno': 1, 'dos': 2, 'tres': 3, 'cuatro': 4, 'cinco': 5}\n",
    "            n_baths = num_dict.get(num_baths.lower(), 1)\n",
    "    else:\n",
    "        n_baths = 0\n",
    "    return n_baths\n",
    "\n",
    "# Luego, aplica la función a la columna 'n_baths'\n",
    "\n",
    "df['n_baths'] = df.apply(lambda row: extraer_info_description(row['Description']) if (pd.isna(row['n_baths']) or row['n_baths'] < 1) else row['n_baths'], axis=1)"
   ]
  },
  {
   "cell_type": "code",
   "execution_count": 13,
   "id": "058c28e3-adfc-4abd-a78a-22d66736bd00",
   "metadata": {},
   "outputs": [],
   "source": [
    "def extraer_info_description_bathroom(texto):\n",
    "    # Buscar la palabra \"baño\" en la descripción\n",
    "    bath_match = re.search(r'\\b(baño|baño completo)\\b', str(texto), re.IGNORECASE)\n",
    "\n",
    "    # Si se encuentra la palabra \"baño\"\n",
    "    if bath_match:\n",
    "        return 1  # Si encuentra la palabra \"baño\", establecemos n_baths en 1\n",
    "    else:\n",
    "        return 0  # Si no se encuentra la palabra \"baño\", establecemos n_baths en 0\n",
    "\n",
    "# Aplicar la función extraer_info_description a las celdas con valores menores que 1 o nulos\n",
    "\n",
    "df['n_baths'] = df.apply(lambda row: extraer_info_description_bathroom(row['Description']) if (pd.isna(row['n_baths']) or row['n_baths'] < 1) else row['n_baths'], axis=1)"
   ]
  },
  {
   "cell_type": "markdown",
   "id": "3b60353c-010c-46ae-8fbe-085f1cd604c2",
   "metadata": {},
   "source": [
    "Los `n_baths` que tienen valor 0 es porque olvidaron cargar información al respecto. Al revisar las fotos veo que sí tienen baño. <mark> Importante considerar para hacer limpieza del df</mark>."
   ]
  },
  {
   "cell_type": "markdown",
   "id": "a6b017c9-84eb-44db-a49d-c93baa871938",
   "metadata": {
    "tags": []
   },
   "source": [
    "### Mejora de `terrace_m2`"
   ]
  },
  {
   "cell_type": "markdown",
   "id": "3a52f660-0186-41a3-bfae-7fa33f901784",
   "metadata": {},
   "source": [
    "Obtengo una variable dicotómica (`terrace`), dado que en la descripción algunos pisos indican tener terraza, pero no indican con exactitud sus m$^2$. Por si las dudas también mejoro `terrace_m2` con información de la descripción."
   ]
  },
  {
   "cell_type": "markdown",
   "id": "82c9a18b-ce2c-4817-b37c-0332642a116d",
   "metadata": {},
   "source": [
    "*Tengo una columna llamada 'terrace_m2'. Cuando sus valores sean ceros quiero hacer lo siguiente: ir a la columna 'Description' y buscar la palabra 'terraza', 'Terraza' o sus equivalentes en plural y continuación ver si en una distancia de máximo dos palabras hacia atrás o hacia adelante hay un número. Si lo hay, colocarlo en 'terrace_m2', si no indicar el valor 0 en esa columna.*"
   ]
  },
  {
   "cell_type": "code",
   "execution_count": 14,
   "id": "a36af211-9c55-45d1-97a7-e235b7527af2",
   "metadata": {
    "tags": []
   },
   "outputs": [],
   "source": [
    "def buscar_numero(texto):\n",
    "    if isinstance(texto, str):  # Verificar si texto es una cadena de texto\n",
    "        # Buscar la palabra 'terraza' o 'Terraza' y un número en un rango de dos palabras\n",
    "        match = re.search(r'(\\b(?:\\w+\\s+){0,2}\\d+\\s+(?:terraza|Terraza)\\b|\\b(?:\\w+\\s+){0,2}(?:terraza|Terraza)\\s+\\d+)', texto)\n",
    "        if match:\n",
    "            # Extraer el número encontrado\n",
    "            numero = re.search(r'\\d+', match.group()).group()\n",
    "            return int(numero)\n",
    "    return 0\n",
    "\n",
    "# Iterar sobre cada fila\n",
    "for index, row in df.iterrows():\n",
    "    # Verificar si el valor en 'terrace_m2' es cero\n",
    "    if row['terrace_m2'] == 0:\n",
    "        # Buscar la palabra 'terraza' o 'Terraza' y un número en 'Description'\n",
    "        numero_terrace = buscar_numero(row['Description'])\n",
    "        # Actualizar 'terrace_m2' con el número encontrado o 0 si no se encuentra\n",
    "        df.at[index, 'terrace_m2'] = numero_terrace"
   ]
  },
  {
   "cell_type": "markdown",
   "id": "5c53d3ac-5cbf-43b3-8c1a-6c990f48e522",
   "metadata": {},
   "source": [
    "*Ahora vamos a crear una nueva variable que será dicotómica: 'terrace'. Cuando el valor de terrace_m2 sea mayor a 1, 'terrace' tendrá el valor 1; cuando no, 0. Una vez hecho eso, únicamente sobre los valores 0 añadiremos otra regla: cuando en la columna Description se haga mención a la palabra 'terraza', 'Terraza' o sus equivalentes en plural, cambiar el valor de 'terrace' por 1.*"
   ]
  },
  {
   "cell_type": "code",
   "execution_count": 15,
   "id": "1bb21431-5d5b-4437-93eb-5c22ad438c7b",
   "metadata": {
    "tags": []
   },
   "outputs": [],
   "source": [
    "# Paso 1: Crear la variable dicotómica 'terrace' basada en 'terrace_m2'\n",
    "df['terrace'] = (df['terrace_m2'] > 1).astype(int)\n",
    "\n",
    "# Paso 2: Aplicar la regla adicional para actualizar 'terrace' cuando 'terrace_m2' sea igual a 0\n",
    "for index, row in df.iterrows():\n",
    "    if row['terrace_m2'] == 0 and isinstance(row['Description'], str):  # Verificar si 'Description' es una cadena de texto\n",
    "        # Buscar la palabra 'terraza' o 'Terraza' en 'Description' (ignorando mayúsculas y minúsculas)\n",
    "        if re.search(r'(?:\\bterraza|Terraza)s?(?:\\b|\\w{0,10}\\b)', row['Description'], re.IGNORECASE): # Ajuste para incluir errores de espaciado\n",
    "            # Actualizar 'terrace' a 1 si se encuentra una mención a la terraza\n",
    "            df.at[index, 'terrace'] = 1"
   ]
  },
  {
   "cell_type": "markdown",
   "id": "6806f15a-dd42-4402-942f-d52803e54d74",
   "metadata": {},
   "source": [
    "Hay casos en los que el texto de la descripción tiene problemas de redacción y el código no funciona bien:\n",
    "\n",
    "- Ejemplo 1: \"(...)2 Baño Balcón-TerrazaParqueoSituado en un lugar(...)\"\n",
    "- Ejemplo 2: \"(...)hay una salida directa a una amplia terrazaEn la zona de noche(...)\"\n",
    "\n",
    "Sin embargo, son casos aislados. En el caso del municipio de Barcelona, de un total de 3424 casos, sólo 5 no pudieron ser \"captados\" por el código."
   ]
  },
  {
   "cell_type": "markdown",
   "id": "4fbee57c-9a50-434c-9131-cfaa3c1203b9",
   "metadata": {},
   "source": [
    "# EPC"
   ]
  },
  {
   "cell_type": "markdown",
   "id": "74f38506-4b61-4335-b186-1800da69fd68",
   "metadata": {},
   "source": [
    "## `EPC_Consum`"
   ]
  },
  {
   "cell_type": "code",
   "execution_count": 16,
   "id": "405ff96f-d204-4c20-a9df-7731d76fad7f",
   "metadata": {
    "tags": []
   },
   "outputs": [],
   "source": [
    "# Convertir 'EPC_Consum' column a strings\n",
    "df['EPC_Consum'] = df['EPC_Consum'].astype(str)\n",
    "\n",
    "# Función para extraer la letra de la segunda línea\n",
    "def extraer_letra(texto):\n",
    "    resultado = re.search(r'Consumo:\\n+\\s+(\\w)', texto)\n",
    "    if resultado:\n",
    "        return resultado.group(1)\n",
    "    else:\n",
    "        return None\n",
    "\n",
    "# Función para extraer el valor numérico de la tercera línea\n",
    "def extraer_valor(texto):\n",
    "    resultado = re.search(r'E\\n+\\s+(\\d+)', texto)\n",
    "    if resultado:\n",
    "        return int(resultado.group(1))\n",
    "    else:\n",
    "        return None\n",
    "\n",
    "# Aplicar las funciones y crear las nuevas columnas\n",
    "df['consum_EPC'] = df['EPC_Consum'].apply(extraer_letra)\n",
    "df['kwhm2_year'] = df['EPC_Consum'].apply(extraer_valor)"
   ]
  },
  {
   "cell_type": "markdown",
   "id": "20c9c802-ad79-48e2-818c-fb25186d66fa",
   "metadata": {},
   "source": [
    "## `EPC_Emission`"
   ]
  },
  {
   "cell_type": "code",
   "execution_count": 17,
   "id": "9ec6d7e5-3bf2-45fa-9d9e-4ab254470042",
   "metadata": {
    "tags": []
   },
   "outputs": [],
   "source": [
    "# Convertir las letras a variables dummy en EPC_Emission\n",
    "def extraer_letra_emission(texto):\n",
    "    resultado = re.search(r'Emisiones: (\\w)', texto)\n",
    "    if resultado:\n",
    "        return resultado.group(1)\n",
    "    else:\n",
    "        return None\n",
    "\n",
    "# Función para extraer el valor numérico de la tercera línea en EPC_Emission\n",
    "def extraer_valor_emission(texto):\n",
    "    resultado = re.search(r'(\\d+) kg CO2 m2 / año', texto)\n",
    "    if resultado:\n",
    "        return int(resultado.group(1))\n",
    "    else:\n",
    "        return None\n",
    "\n",
    "# Aplicar las funciones y crear las nuevas columnas\n",
    "df['emission_EPC'] = df['EPC_Emission'].astype(str)\n",
    "df['emission_EPC'] = df['emission_EPC'].apply(extraer_letra_emission)\n",
    "df['kgCO2m2_year'] = df['EPC_Emission'].astype(str)\n",
    "df['kgCO2m2_year'] = df['kgCO2m2_year'].apply(extraer_valor_emission)"
   ]
  },
  {
   "cell_type": "markdown",
   "id": "d2a7c99d-16ea-434d-be60-2a1d7fe2edb6",
   "metadata": {},
   "source": [
    "### `dummy_consum_EPC` y `dummy_emission_EPC`"
   ]
  },
  {
   "cell_type": "code",
   "execution_count": 18,
   "id": "e42a4b9e-3e06-41cc-ae5c-aaf46c95320c",
   "metadata": {
    "tags": []
   },
   "outputs": [],
   "source": [
    "# Función para crear las columnas dummy_consum_EPC y dummy_emission_EPC\n",
    "def crear_dummy(valor):\n",
    "    if pd.notna(valor):\n",
    "        return 1\n",
    "    else:\n",
    "        return 0\n",
    "\n",
    "# Aplicar la función y crear las nuevas columnas\n",
    "df['dummy_consum_EPC'] = df['consum_EPC'].apply(crear_dummy)\n",
    "df['dummy_emission_EPC'] = df['emission_EPC'].apply(crear_dummy)"
   ]
  },
  {
   "cell_type": "markdown",
   "id": "dee028ca-36ed-4d31-9c9b-a502904a6e66",
   "metadata": {},
   "source": [
    "### One-hot encoding"
   ]
  },
  {
   "cell_type": "code",
   "execution_count": 19,
   "id": "245bb40f-2642-4068-be09-39ac059e3a9c",
   "metadata": {
    "tags": []
   },
   "outputs": [],
   "source": [
    "# Convertir las letras a variables dummy\n",
    "consum_dummy = pd.get_dummies(df['consum_EPC'], prefix='consum', dummy_na=False, dtype=int)\n",
    "emission_dummy = pd.get_dummies(df['emission_EPC'], prefix='emission', dummy_na=False, dtype=int)\n",
    "\n",
    "# Concatenar las variables dummy al dataframe original\n",
    "df = pd.concat([df, consum_dummy, emission_dummy], axis=1)"
   ]
  },
  {
   "cell_type": "markdown",
   "id": "92e9a205-090f-4a92-bb52-510a21db7978",
   "metadata": {},
   "source": [
    "# Equipment"
   ]
  },
  {
   "cell_type": "markdown",
   "id": "a25fadda-155c-481e-8e67-eb7cd8554c22",
   "metadata": {},
   "source": [
    "Obtengo `AC`, `parking`, `pool`, `lift`, `furniture`, `public_transp` (que es algo que ahora los ofertantes pueden publicitar) y `year_cons`(son pocos los pisos que tienen esta info, yo  <mark> consideraría quitarla luego</mark>)."
   ]
  },
  {
   "cell_type": "code",
   "execution_count": 20,
   "id": "3846188f-96b2-48e5-93b3-b65f69c02e78",
   "metadata": {},
   "outputs": [],
   "source": [
    "# Función para extraer la información de las características generales\n",
    "def extraer_caracteristicas(texto):\n",
    "    if isinstance(texto, str):  # Verificamos si el valor es una cadena\n",
    "        ac = 1 if re.search(r'Aire acondicionado(\\s*:\\s*Sí)?', texto) else 0\n",
    "        parking = 1 if re.search(r'Plaza parking', texto) else 0\n",
    "        pool = 1 if re.search(r'Piscina comunitaria', texto) else 0\n",
    "        lift = 1 if re.search(r'Ascensor', texto) else 0\n",
    "        furniture = 1 if re.search(r'Amueblado', texto) else 0\n",
    "        public_transp = 1 if re.search(r'Cerca de transporte público', texto) else 0\n",
    "        year_construc_match = re.search(r'Año construcción (\\d{4})', texto)\n",
    "        year_construc = int(year_construc_match.group(1)) if year_construc_match else 0\n",
    "    else:\n",
    "        ac, parking, pool, lift, furniture, public_transp, year_construc = 0, 0, 0, 0, 0, 0, 0\n",
    "    return pd.Series([ac, parking, pool, lift, furniture, public_transp, year_construc])\n",
    "\n",
    "# Aplicar la función y crear las nuevas columnas\n",
    "df[['AC', 'parking', 'pool', 'lift', 'furniture', 'public_transp', 'year_cons']] = df['Equipment'].apply(extraer_caracteristicas)"
   ]
  },
  {
   "cell_type": "markdown",
   "id": "809685e9-1ba4-44cf-8130-73346d05fff6",
   "metadata": {},
   "source": [
    "# Floor"
   ]
  },
  {
   "cell_type": "markdown",
   "id": "327258c9-fc73-422f-9a2b-178261e3c258",
   "metadata": {},
   "source": [
    "También son pocos los pisos que declaran en qué planta se encuentran, <mark>consideraría sacarla de la base de datos</mark>."
   ]
  },
  {
   "cell_type": "code",
   "execution_count": 21,
   "id": "6094ba7d-9fee-4037-947d-b819010e2203",
   "metadata": {},
   "outputs": [],
   "source": [
    "# Función para aplicar las reglas y crear la nueva columna 'floor'\n",
    "def assign_floor(row):\n",
    "    if isinstance(row['Equipment'], str) and re.search(r'Planta número (\\d+)', row['Equipment']):\n",
    "        return int(re.search(r'Planta número (\\d+)', row['Equipment']).group(1))\n",
    "    elif isinstance(row['Equipment'], str) and re.search(r'Planta baja', row['Equipment']):\n",
    "        return 0\n",
    "    else:\n",
    "        return 999\n",
    "\n",
    "# Apply the function to each row of the dataframe\n",
    "df['floor'] = df.apply(assign_floor, axis=1)\n",
    "\n",
    "# Drop the original column\n",
    "df = df.drop('Equipment', axis=1)"
   ]
  },
  {
   "cell_type": "markdown",
   "id": "5f66f001-7f1c-41f2-a3b4-58a073fdfa67",
   "metadata": {},
   "source": [
    "# Adicionales"
   ]
  },
  {
   "cell_type": "markdown",
   "id": "7d82549e-3dc0-403b-9427-0deab966ff6f",
   "metadata": {
    "tags": []
   },
   "source": [
    "## `barrio`"
   ]
  },
  {
   "cell_type": "code",
   "execution_count": 22,
   "id": "f0f7bd45-05ad-4508-b265-fd2447c6ac34",
   "metadata": {},
   "outputs": [],
   "source": [
    "# Dividir el texto por el guión y seleccionar la segunda parte\n",
    "df['barrio'] = df['Location'].str.split(' - ', expand=True)[1]\n",
    "\n",
    "df=df.drop('Location',axis=1)"
   ]
  },
  {
   "cell_type": "markdown",
   "id": "a983c099-87ba-416d-95a3-d833dac08593",
   "metadata": {},
   "source": [
    "## `precio_euros`"
   ]
  },
  {
   "cell_type": "code",
   "execution_count": 23,
   "id": "4263ecae-838a-4a93-8228-ab138201bc57",
   "metadata": {
    "tags": []
   },
   "outputs": [],
   "source": [
    "# Convertir los valores de la columna 'precio_euros' en cadenas de texto\n",
    "df['precio_euros'] = df['precio_euros'].astype(str)\n",
    "\n",
    "# Eliminar el punto y el símbolo del euro de cada cadena\n",
    "df['precio_euros'] = df['precio_euros'].str.replace('.', '').str.replace('€', '')\n",
    "\n",
    "# Convertir las cadenas resultantes en números enteros o flotantes, convirtiendo los \"nan\" en 0\n",
    "df['precio_euros'] = pd.to_numeric(df['precio_euros'], errors='coerce').fillna(0)"
   ]
  },
  {
   "cell_type": "markdown",
   "id": "0b7164f0-5c83-4e6c-ae0b-b3ba738a0f5c",
   "metadata": {},
   "source": [
    "## `codigo_inmueble`"
   ]
  },
  {
   "cell_type": "code",
   "execution_count": 24,
   "id": "54d77bd0-0523-4508-999f-434a78fe0a2f",
   "metadata": {
    "tags": []
   },
   "outputs": [],
   "source": [
    "# Definir una función para extraer el número de la cadena\n",
    "def extraer_numero(texto):\n",
    "    if isinstance(texto, str):  # Verificar si el valor es una cadena de texto\n",
    "        resultado = re.search(r'\\d+', texto)\n",
    "        if resultado:\n",
    "            return int(resultado.group())\n",
    "        else:\n",
    "            return None\n",
    "    else:\n",
    "        return None\n",
    "\n",
    "# Aplicar la función a la columna 'codigo_inmueble' y crear una nueva columna 'codigo_inmueble_numero'\n",
    "df['codigo_inmueble_numero'] = df['codigo_inmueble'].apply(extraer_numero)"
   ]
  },
  {
   "cell_type": "markdown",
   "id": "22304a86-7880-4c21-bfa5-6a74fd1ce77c",
   "metadata": {},
   "source": [
    "## `Lon_X` y `Lat_Y`"
   ]
  },
  {
   "cell_type": "code",
   "execution_count": 25,
   "id": "0aee2c21-5fce-4f23-99ef-48bc3d43fcfa",
   "metadata": {
    "tags": []
   },
   "outputs": [],
   "source": [
    "# Función para limpiar y extraer la latitud\n",
    "def extraer_latitud(cadena):\n",
    "    partes = cadena.split(',')\n",
    "    longitud = partes[0].strip()  # Obtenemos la longitud\n",
    "    # Limpiamos y extraemos la latitud\n",
    "    latitud_raw = partes[1].replace('\\\\\"VGPSLon\\\\\":', '').strip()\n",
    "    latitud = latitud_raw.rstrip(',')  # Limpiamos cualquier carácter adicional al final\n",
    "    return longitud, latitud\n",
    "\n",
    "# Aplicamos la función y creamos las nuevas columnas 'Longitud' y 'Latitud'\n",
    "df[['Lat_Y', 'Lon_X']] = df['Lon/Lat'].apply(lambda x: pd.Series(extraer_latitud(x)))"
   ]
  },
  {
   "cell_type": "markdown",
   "id": "aaa75882-e7b9-4465-a244-6ba435593eaa",
   "metadata": {},
   "source": [
    "Lo que veo al revisar `df` hasta el paso anterior es que hay dos casos en los que la latitud y longitud no se extrayeron correctamente. En un caso tienen el código html de la web y en otro valores 0.000 para la longitud y la latitud. Los elimino a continuación."
   ]
  },
  {
   "cell_type": "code",
   "execution_count": 26,
   "id": "6a2a9aa8-bccc-4d50-a8fb-b79b41ff19bc",
   "metadata": {
    "tags": []
   },
   "outputs": [],
   "source": [
    "# Primero, limpiemos las celdas que contienen valores no numéricos\n",
    "df['Lon_X'] = pd.to_numeric(df['Lon_X'], errors='coerce')\n",
    "df['Lat_Y'] = pd.to_numeric(df['Lat_Y'], errors='coerce')\n",
    "\n",
    "# Luego, eliminamos las filas que contienen valores no numéricos\n",
    "df = df.dropna(subset=['Lon_X', 'Lat_Y'])\n",
    "\n",
    "# Finalmente, convertimos las columnas a números flotantes\n",
    "df['Lon_X'] = df['Lon_X'].astype(float)\n",
    "df['Lat_Y'] = df['Lat_Y'].astype(float)"
   ]
  },
  {
   "cell_type": "markdown",
   "id": "0545956e-10d5-4c84-955a-c1977c817dd6",
   "metadata": {
    "tags": []
   },
   "source": [
    "## `multifam`"
   ]
  },
  {
   "cell_type": "code",
   "execution_count": 27,
   "id": "93eb8085-8442-4a57-b4bf-83e7e1234324",
   "metadata": {},
   "outputs": [],
   "source": [
    "# Buscar las palabras \"casa\", \"chalet\" o \"masía\" en las columnas especificadas\n",
    "mask = df['Title'].str.contains(r'\\b(?:casa|chalet|masía)\\b', flags=re.IGNORECASE) | \\\n",
    "       df['Description'].str.contains(r'\\b(?:casa|chalet|masía)\\b', flags=re.IGNORECASE) | \\\n",
    "       df['texto_destacado'].str.contains(r'\\b(?:casa|chalet|masía)\\b', flags=re.IGNORECASE)\n",
    "\n",
    "# Crear la columna 'piso' con los valores correspondientes (1 y 0)\n",
    "df['multifam'] = ~mask\n",
    "\n",
    "# Convertir los valores booleanos a 1 y 0\n",
    "df['multifam'] = df['multifam'].astype(int)"
   ]
  },
  {
   "cell_type": "code",
   "execution_count": 28,
   "id": "df97e384-bdb6-45e4-8c23-3a6a4ee4f1c4",
   "metadata": {},
   "outputs": [],
   "source": [
    "# Lista de columnas a eliminar\n",
    "columnas_a_eliminar = ['Price_other', 'texto_destacado', 'Distribution', 'General Characteristics', 'EPC_Consum', 'EPC_Emission', 'Lon/Lat']\n",
    "\n",
    "# Eliminar las columnas\n",
    "df = df.drop(columnas_a_eliminar, axis=1)"
   ]
  },
  {
   "cell_type": "code",
   "execution_count": 29,
   "id": "a367a42b-03fd-42f0-87cc-b10034b02977",
   "metadata": {
    "tags": []
   },
   "outputs": [],
   "source": [
    "df.to_excel('data/pre-procesado/v-barcelones.xlsx', index=False)"
   ]
  }
 ],
 "metadata": {
  "kernelspec": {
   "display_name": "Python 3 (ipykernel)",
   "language": "python",
   "name": "python3"
  },
  "language_info": {
   "codemirror_mode": {
    "name": "ipython",
    "version": 3
   },
   "file_extension": ".py",
   "mimetype": "text/x-python",
   "name": "python",
   "nbconvert_exporter": "python",
   "pygments_lexer": "ipython3",
   "version": "3.11.5"
  }
 },
 "nbformat": 4,
 "nbformat_minor": 5
}
